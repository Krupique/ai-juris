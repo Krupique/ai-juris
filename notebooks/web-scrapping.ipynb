{
 "cells": [
  {
   "cell_type": "markdown",
   "metadata": {},
   "source": [
    "StackExchange App\n",
    "\n",
    "https://stackapps.com/apps/oauth/view/30531#\n",
    "\n",
    "Ref: https://huggingface.co/datasets/ymoslem/Law-StackExchange/blob/main/StackExchange.ipynb"
   ]
  },
  {
   "cell_type": "code",
   "execution_count": 1,
   "metadata": {},
   "outputs": [],
   "source": [
    "import pandas as pd\n",
    "import requests\n",
    "from requests.adapters import HTTPAdapter, Retry\n",
    "from requests.exceptions import ConnectionError\n",
    "from tqdm.notebook import tqdm\n",
    "import json\n",
    "from time import sleep"
   ]
  },
  {
   "cell_type": "code",
   "execution_count": 2,
   "metadata": {},
   "outputs": [],
   "source": [
    "with open('../ignore/secret.json', 'r', encoding='utf-8') as file:\n",
    "    secret_key = json.load(file)\n"
   ]
  },
  {
   "cell_type": "code",
   "execution_count": 3,
   "metadata": {},
   "outputs": [],
   "source": [
    "# Which site to extract questions from\n",
    "\n",
    "site = \"law\"  # \"law\" or \"medicalsciences\" etc."
   ]
  },
  {
   "cell_type": "markdown",
   "metadata": {},
   "source": [
    "## Get Questions"
   ]
  },
  {
   "cell_type": "code",
   "execution_count": 4,
   "metadata": {},
   "outputs": [],
   "source": [
    "url = \"https://api.stackexchange.com/2.3/questions/\"\n",
    "params = {\"client_secret\": secret_key['secret '],\n",
    "          \"key\": secret_key['key '],\n",
    "          \"site\": site,\n",
    "          \"filter\": \"withbody\",\n",
    "          \"order\":\"desc\",\n",
    "          \"sort\":\"votes\",\n",
    "          \"pagesize\":100\n",
    "          }\n",
    "\n",
    "max_pages = 300 # 300 for law or 80 for medicalsciences\n",
    "\n",
    "retries = Retry(total=5,\n",
    "                backoff_factor=0.1,\n",
    "                status_forcelist=[500, 502, 503, 504, 429])\n",
    "\n",
    "adapter = HTTPAdapter(max_retries=retries)\n",
    "session = requests.Session()\n",
    "\n",
    "# Use the adapter for all requests to endpoints that start with this URL\n",
    "session.mount('https://api.stackexchange.com/', adapter)\n",
    "\n",
    "retrieved_data = []"
   ]
  },
  {
   "cell_type": "code",
   "execution_count": 5,
   "metadata": {},
   "outputs": [
    {
     "data": {
      "application/vnd.jupyter.widget-view+json": {
       "model_id": "0d411d239d3e4ebab679c8236b5669b5",
       "version_major": 2,
       "version_minor": 0
      },
      "text/plain": [
       "  0%|          | 0/300 [00:00<?, ?it/s]"
      ]
     },
     "metadata": {},
     "output_type": "display_data"
    }
   ],
   "source": [
    "for page in tqdm(range(max_pages)):\n",
    "  params[\"page\"] = page+1\n",
    "  response = session.get(url, params=params)\n",
    "\n",
    "  if response.status_code != 200:\n",
    "    print(\"Error:\", response.status_code)\n",
    "    break\n",
    "  else:\n",
    "    current_page = response.json()\n",
    "    for item in current_page['items']:\n",
    "      retrieved_data.append(item)\n",
    "    if current_page[\"has_more\"] == False:\n",
    "      print(\"No more pages\")\n",
    "      break"
   ]
  },
  {
   "cell_type": "code",
   "execution_count": 6,
   "metadata": {},
   "outputs": [
    {
     "data": {
      "text/plain": [
       "30000"
      ]
     },
     "execution_count": 6,
     "metadata": {},
     "output_type": "execute_result"
    }
   ],
   "source": [
    "len(retrieved_data)"
   ]
  },
  {
   "cell_type": "code",
   "execution_count": 7,
   "metadata": {},
   "outputs": [
    {
     "name": "stdout",
     "output_type": "stream",
     "text": [
      "{\n",
      "    \"tags\": [\n",
      "        \"england-and-wales\",\n",
      "        \"legal-history\"\n",
      "    ],\n",
      "    \"owner\": {\n",
      "        \"account_id\": 27127305,\n",
      "        \"reputation\": 1,\n",
      "        \"user_id\": 48046,\n",
      "        \"user_type\": \"registered\",\n",
      "        \"profile_image\": \"https://www.gravatar.com/avatar/2b42ab6e24f8294aba29c8440f7e8384?s=256&d=identicon&r=PG\",\n",
      "        \"display_name\": \"TylerDurden\",\n",
      "        \"link\": \"https://law.stackexchange.com/users/48046/tylerdurden\"\n",
      "    },\n",
      "    \"is_answered\": true,\n",
      "    \"view_count\": 72,\n",
      "    \"accepted_answer_id\": 95976,\n",
      "    \"answer_count\": 1,\n",
      "    \"score\": -3,\n",
      "    \"last_activity_date\": 1696453559,\n",
      "    \"creation_date\": 1696452360,\n",
      "    \"last_edit_date\": 1696453559,\n",
      "    \"question_id\": 95973,\n",
      "    \"content_license\": \"CC BY-SA 4.0\",\n",
      "    \"link\": \"https://law.stackexchange.com/questions/95973/was-affray-a-common-law-offence-before-it-was-codified-in-statute\",\n",
      "    \"title\": \"Was affray a common law offence before it was codified in statute?\",\n",
      "    \"body\": \"<p>Section 3 POA 1986 describes affray as a criminal offence. What was the status of it before this?</p>\\n\"\n",
      "}\n"
     ]
    }
   ],
   "source": [
    "import json\n",
    "\n",
    "print(json.dumps(retrieved_data[-1], indent=4))"
   ]
  },
  {
   "cell_type": "code",
   "execution_count": null,
   "metadata": {},
   "outputs": [],
   "source": [
    "# Save file - test\n",
    "with open(\"example.json\", \"w\") as output:\n",
    "  json.dump(retrieved_data[:10], output, indent=4)"
   ]
  },
  {
   "cell_type": "code",
   "execution_count": null,
   "metadata": {},
   "outputs": [],
   "source": [
    "# Save the whole data\n",
    "import os\n",
    "\n",
    "# output_questions_file_name = \"law.stackexchange.json\"\n",
    "output_questions_file_name = \"medical.stackexchange.json\"\n",
    "directory = \"/content/drive/MyDrive/data/StackExchange/MedicalSciences\"\n",
    "full_output_path = os.path.join(directory, output_questions_file_name)\n",
    "\n",
    "with open(full_output_path, \"w+\") as output:\n",
    "  json.dump(retrieved_data, output, indent=4)"
   ]
  },
  {
   "cell_type": "markdown",
   "metadata": {},
   "source": [
    "## Get answers"
   ]
  },
  {
   "cell_type": "code",
   "execution_count": null,
   "metadata": {},
   "outputs": [],
   "source": [
    "import os\n",
    "\n",
    "# file_path = \"/content/drive/MyDrive/data/StackExchange/Law/\"\n",
    "# file_name = \"law.stackexchange.json\"\n",
    "\n",
    "file_path = \"/content/drive/MyDrive/data/StackExchange/MedicalSciences/\"\n",
    "file_name = \"medical.stackexchange.json\"\n",
    "\n",
    "data = json.load(open(os.path.join(file_path, file_name)))\n",
    "questions = [question for question in data if question[\"is_answered\"]]\n",
    "\n",
    "print(\"Questions total:\", len(data))\n",
    "print(\"Questions with answers:\", len(questions))"
   ]
  },
  {
   "cell_type": "code",
   "execution_count": null,
   "metadata": {},
   "outputs": [],
   "source": [
    "url = {\"url\":\"https://api.stackexchange.com/2.3/questions/{idx}/answers\"}\n",
    "params = {\"client_secret\": secret,\n",
    "          \"key\": key,\n",
    "          \"site\": site,\n",
    "          \"filter\": \"withbody\",\n",
    "          \"order\":\"desc\",\n",
    "          \"sort\":\"votes\",\n",
    "          \"pagesize\":100}\n",
    "\n",
    "retries = Retry(total=5,\n",
    "                backoff_factor=0.99,\n",
    "                status_forcelist=[400, 429, 500, 502, 503, 504])\n",
    "\n",
    "adapter = HTTPAdapter(max_retries=retries)\n",
    "session = requests.Session()\n",
    "\n",
    "# Use the adapter for all requests to endpoints that start with this URL\n",
    "session.mount('https://api.stackexchange.com/', adapter)\n",
    "\n",
    "questions_data = []\n",
    "\n",
    "for question_item in tqdm(questions):\n",
    "  question_id = question_item[\"question_id\"]\n",
    "\n",
    "  question = {}\n",
    "  question[\"question_id\"] = question_item[\"question_id\"]\n",
    "  question[\"tags\"] = question_item[\"tags\"]\n",
    "  question[\"score\"] = question_item[\"score\"]\n",
    "  question[\"license\"] = question_item.get(\"content_license\", \"\")\n",
    "  question[\"title\"] = question_item[\"title\"]\n",
    "  question[\"body\"] = question_item[\"body\"]\n",
    "  question[\"link\"] = question_item[\"link\"]\n",
    "  question[\"answers\"] = []\n",
    "\n",
    "  response = session.get(url[\"url\"].format(idx=question_id), params=params)\n",
    "\n",
    "  if response.status_code != 200:\n",
    "    print(\"Error:\", response.status_code)\n",
    "    break\n",
    "  else:\n",
    "    current_page = response.json()\n",
    "    for answer_item in current_page['items']:\n",
    "      if answer_item[\"score\"] >= 0:\n",
    "        answer = {}\n",
    "        answer[\"answer_id\"] = answer_item[\"answer_id\"]\n",
    "        answer[\"score\"] = answer_item[\"score\"]\n",
    "        answer[\"body\"] = answer_item[\"body\"]\n",
    "\n",
    "        question[\"answers\"].append(answer)\n",
    "\n",
    "  questions_data.append(question)\n",
    "  sleep(0.5)"
   ]
  },
  {
   "cell_type": "code",
   "execution_count": null,
   "metadata": {},
   "outputs": [],
   "source": [
    "print(len(questions_data))\n",
    "print(json.dumps(questions_data[-1], indent=2))"
   ]
  },
  {
   "cell_type": "code",
   "execution_count": null,
   "metadata": {},
   "outputs": [],
   "source": [
    "# Save the whole data\n",
    "\n",
    "# output_file_name = \"law.stackexchange-questions-answers.json\"\n",
    "output_file_name = \"medical.stackexchange-questions-answers.json\"\n",
    "\n",
    "full_output_path = os.path.join(file_path, output_file_name)\n",
    "\n",
    "with open(full_output_path, \"w+\") as output:\n",
    "  json.dump(questions_data, output, indent=4)"
   ]
  },
  {
   "cell_type": "code",
   "execution_count": null,
   "metadata": {},
   "outputs": [],
   "source": [
    "import os\n",
    "import json\n",
    "\n",
    "# output_file_name = \"law.stackexchange-questions-answers.json\"\n",
    "output_file_name = \"medical.stackexchange-questions-answers.json\"\n",
    "\n",
    "full_output_path = os.path.join(file_path, output_file_name)\n",
    "\n",
    "with open(full_output_path, \"r\") as output:\n",
    "  questions_answers = json.load(output)"
   ]
  },
  {
   "cell_type": "code",
   "execution_count": null,
   "metadata": {},
   "outputs": [],
   "source": [
    "len(questions_answers)"
   ]
  },
  {
   "cell_type": "code",
   "execution_count": null,
   "metadata": {},
   "outputs": [],
   "source": [
    "print(json.dumps(questions_answers[0], indent=4))"
   ]
  }
 ],
 "metadata": {
  "kernelspec": {
   "display_name": ".venv",
   "language": "python",
   "name": "python3"
  },
  "language_info": {
   "codemirror_mode": {
    "name": "ipython",
    "version": 3
   },
   "file_extension": ".py",
   "mimetype": "text/x-python",
   "name": "python",
   "nbconvert_exporter": "python",
   "pygments_lexer": "ipython3",
   "version": "3.12.7"
  }
 },
 "nbformat": 4,
 "nbformat_minor": 2
}
