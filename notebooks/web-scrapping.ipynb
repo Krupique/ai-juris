{
 "cells": [
  {
   "cell_type": "markdown",
   "metadata": {},
   "source": [
    "StackExchange App\n",
    "\n",
    "https://stackapps.com/apps/oauth/view/30531#\n",
    "\n",
    "Ref: https://huggingface.co/datasets/ymoslem/Law-StackExchange/blob/main/StackExchange.ipynb"
   ]
  },
  {
   "cell_type": "code",
   "execution_count": 1,
   "metadata": {},
   "outputs": [],
   "source": [
    "import pandas as pd\n",
    "import requests\n",
    "from requests.adapters import HTTPAdapter, Retry\n",
    "from requests.exceptions import ConnectionError\n",
    "from tqdm.notebook import tqdm\n",
    "import json\n",
    "from time import sleep"
   ]
  },
  {
   "cell_type": "code",
   "execution_count": 2,
   "metadata": {},
   "outputs": [],
   "source": [
    "with open('../ignore/secret.json', 'r', encoding='utf-8') as file:\n",
    "    secret_key = json.load(file)\n"
   ]
  },
  {
   "cell_type": "code",
   "execution_count": 3,
   "metadata": {},
   "outputs": [],
   "source": [
    "# Which site to extract questions from\n",
    "\n",
    "site = \"law\"  # \"law\" or \"medicalsciences\" etc."
   ]
  },
  {
   "cell_type": "markdown",
   "metadata": {},
   "source": [
    "## Get Questions"
   ]
  },
  {
   "cell_type": "code",
   "execution_count": 4,
   "metadata": {},
   "outputs": [],
   "source": [
    "url = \"https://api.stackexchange.com/2.3/questions/\"\n",
    "params = {\"client_secret\": secret_key['secret '],\n",
    "          \"key\": secret_key['key '],\n",
    "          \"site\": site,\n",
    "          \"filter\": \"withbody\",\n",
    "          \"order\":\"desc\",\n",
    "          \"sort\":\"votes\",\n",
    "          \"pagesize\":100\n",
    "          }\n",
    "\n",
    "max_pages = 300 # 300 for law or 80 for medicalsciences\n",
    "\n",
    "retries = Retry(total=5,\n",
    "                backoff_factor=0.1,\n",
    "                status_forcelist=[500, 502, 503, 504, 429])\n",
    "\n",
    "adapter = HTTPAdapter(max_retries=retries)\n",
    "session = requests.Session()\n",
    "\n",
    "# Use the adapter for all requests to endpoints that start with this URL\n",
    "session.mount('https://api.stackexchange.com/', adapter)\n",
    "\n",
    "retrieved_data = []"
   ]
  },
  {
   "cell_type": "code",
   "execution_count": 5,
   "metadata": {},
   "outputs": [
    {
     "data": {
      "application/vnd.jupyter.widget-view+json": {
       "model_id": "2e38b874f990434e8427e5718a5c88c1",
       "version_major": 2,
       "version_minor": 0
      },
      "text/plain": [
       "  0%|          | 0/300 [00:00<?, ?it/s]"
      ]
     },
     "metadata": {},
     "output_type": "display_data"
    }
   ],
   "source": [
    "for page in tqdm(range(max_pages)):\n",
    "  params[\"page\"] = page+1\n",
    "  response = session.get(url, params=params)\n",
    "\n",
    "  if response.status_code != 200:\n",
    "    print(\"Error:\", response.status_code)\n",
    "    break\n",
    "  else:\n",
    "    current_page = response.json()\n",
    "    for item in current_page['items']:\n",
    "      retrieved_data.append(item)\n",
    "    if current_page[\"has_more\"] == False:\n",
    "      print(\"No more pages\")\n",
    "      break"
   ]
  },
  {
   "cell_type": "code",
   "execution_count": 6,
   "metadata": {},
   "outputs": [
    {
     "data": {
      "text/plain": [
       "30000"
      ]
     },
     "execution_count": 6,
     "metadata": {},
     "output_type": "execute_result"
    }
   ],
   "source": [
    "len(retrieved_data)"
   ]
  },
  {
   "cell_type": "code",
   "execution_count": 7,
   "metadata": {},
   "outputs": [
    {
     "name": "stdout",
     "output_type": "stream",
     "text": [
      "{\n",
      "    \"tags\": [\n",
      "        \"england-and-wales\",\n",
      "        \"discrimination\",\n",
      "        \"is-x-legal\",\n",
      "        \"sex-discrimination\"\n",
      "    ],\n",
      "    \"owner\": {\n",
      "        \"account_id\": 27127305,\n",
      "        \"reputation\": 1,\n",
      "        \"user_id\": 48046,\n",
      "        \"user_type\": \"registered\",\n",
      "        \"profile_image\": \"https://www.gravatar.com/avatar/2b42ab6e24f8294aba29c8440f7e8384?s=256&d=identicon&r=PG\",\n",
      "        \"display_name\": \"TylerDurden\",\n",
      "        \"link\": \"https://law.stackexchange.com/users/48046/tylerdurden\"\n",
      "    },\n",
      "    \"is_answered\": true,\n",
      "    \"view_count\": 311,\n",
      "    \"closed_date\": 1694809103,\n",
      "    \"answer_count\": 2,\n",
      "    \"score\": -3,\n",
      "    \"last_activity_date\": 1694694618,\n",
      "    \"creation_date\": 1694627391,\n",
      "    \"last_edit_date\": 1694646497,\n",
      "    \"question_id\": 95448,\n",
      "    \"link\": \"https://law.stackexchange.com/questions/95448/is-it-lawful-to-maintain-different-independent-dress-codes-for-male-and-female\",\n",
      "    \"closed_reason\": \"Duplicate\",\n",
      "    \"title\": \"Is it lawful to maintain different, independent dress codes for male and female guests to a business/venue?\",\n",
      "    \"body\": \"<p>Some venues/events will specify dress codes for each sex by defining the male code as smart casual and females should wear cocktail dresses etc.</p>\\n<p>But what if these are less congruent, where females are allowed to wear tops that expose much of their torsos, like low-cut chest/cleavage, or exposed midriff crop top, or tight fitting short shorts all but designed to accentuate and reveal the genitals as much as possible for maximum sex appeal, or wearing thin or tight fitting tops without a brassiere underneath, which is often deemed not only perfectly acceptable but furthermore beyond sanction or reproach if only by unspoken social norms. While if a male entered the same event/venue with a shirt tied up so that it covers their breasts but exposes their stomachs, they may commonly be directed to \\u201cwear the shirt properly,\\u201d whatever that may be understood to mean.</p>\\n<p>Simply put, is such differential treatment sexist discrimination?</p>\\n\"\n",
      "}\n"
     ]
    }
   ],
   "source": [
    "import json\n",
    "\n",
    "print(json.dumps(retrieved_data[-1], indent=4))"
   ]
  },
  {
   "cell_type": "code",
   "execution_count": 8,
   "metadata": {},
   "outputs": [],
   "source": [
    "# Save file - test\n",
    "with open(\"example.json\", \"w\") as output:\n",
    "  json.dump(retrieved_data[:10], output, indent=4)"
   ]
  },
  {
   "cell_type": "code",
   "execution_count": 12,
   "metadata": {},
   "outputs": [],
   "source": [
    "# Save the whole data\n",
    "import os\n",
    "\n",
    "# output_questions_file_name = \"law.stackexchange.json\"\n",
    "output_questions_file_name = \"law.stackexchange.json\"\n",
    "directory = \"output_data/\"\n",
    "full_output_path = os.path.join(directory, output_questions_file_name)\n",
    "\n",
    "with open(full_output_path, \"w+\") as output:\n",
    "  json.dump(retrieved_data, output, indent=4)"
   ]
  },
  {
   "cell_type": "markdown",
   "metadata": {},
   "source": [
    "## Get answers"
   ]
  },
  {
   "cell_type": "code",
   "execution_count": 13,
   "metadata": {},
   "outputs": [
    {
     "name": "stdout",
     "output_type": "stream",
     "text": [
      "Questions total: 30000\n",
      "Questions with answers: 26823\n"
     ]
    }
   ],
   "source": [
    "import os\n",
    "\n",
    "# file_path = \"/content/drive/MyDrive/data/StackExchange/Law/\"\n",
    "# file_name = \"law.stackexchange.json\"\n",
    "\n",
    "file_path = \"output_data/\"\n",
    "file_name = \"law.stackexchange.json\"\n",
    "\n",
    "data = json.load(open(os.path.join(file_path, file_name)))\n",
    "questions = [question for question in data if question[\"is_answered\"]]\n",
    "\n",
    "print(\"Questions total:\", len(data))\n",
    "print(\"Questions with answers:\", len(questions))"
   ]
  },
  {
   "cell_type": "code",
   "execution_count": 15,
   "metadata": {},
   "outputs": [
    {
     "data": {
      "application/vnd.jupyter.widget-view+json": {
       "model_id": "72218502d1d049f9a09687f878818a16",
       "version_major": 2,
       "version_minor": 0
      },
      "text/plain": [
       "  0%|          | 0/26823 [00:00<?, ?it/s]"
      ]
     },
     "metadata": {},
     "output_type": "display_data"
    },
    {
     "ename": "KeyboardInterrupt",
     "evalue": "",
     "output_type": "error",
     "traceback": [
      "\u001b[1;31m---------------------------------------------------------------------------\u001b[0m",
      "\u001b[1;31mKeyboardInterrupt\u001b[0m                         Traceback (most recent call last)",
      "Cell \u001b[1;32mIn[15], line 52\u001b[0m\n\u001b[0;32m     49\u001b[0m       question[\u001b[38;5;124m\"\u001b[39m\u001b[38;5;124manswers\u001b[39m\u001b[38;5;124m\"\u001b[39m]\u001b[38;5;241m.\u001b[39mappend(answer)\n\u001b[0;32m     51\u001b[0m questions_data\u001b[38;5;241m.\u001b[39mappend(question)\n\u001b[1;32m---> 52\u001b[0m \u001b[43msleep\u001b[49m\u001b[43m(\u001b[49m\u001b[38;5;241;43m0.5\u001b[39;49m\u001b[43m)\u001b[49m\n",
      "\u001b[1;31mKeyboardInterrupt\u001b[0m: "
     ]
    }
   ],
   "source": [
    "url = {\"url\":\"https://api.stackexchange.com/2.3/questions/{idx}/answers\"}\n",
    "params = {\"client_secret\": secret_key['secret '],\n",
    "          \"key\": secret_key['key '],\n",
    "          \"site\": site,\n",
    "          \"filter\": \"withbody\",\n",
    "          \"order\":\"desc\",\n",
    "          \"sort\":\"votes\",\n",
    "          \"pagesize\":100}\n",
    "\n",
    "retries = Retry(total=5,\n",
    "                backoff_factor=0.99,\n",
    "                status_forcelist=[400, 429, 500, 502, 503, 504])\n",
    "\n",
    "adapter = HTTPAdapter(max_retries=retries)\n",
    "session = requests.Session()\n",
    "\n",
    "# Use the adapter for all requests to endpoints that start with this URL\n",
    "session.mount('https://api.stackexchange.com/', adapter)\n",
    "\n",
    "questions_data = []\n",
    "\n",
    "for question_item in tqdm(questions):\n",
    "  question_id = question_item[\"question_id\"]\n",
    "\n",
    "  question = {}\n",
    "  question[\"question_id\"] = question_item[\"question_id\"]\n",
    "  question[\"tags\"] = question_item[\"tags\"]\n",
    "  question[\"score\"] = question_item[\"score\"]\n",
    "  question[\"license\"] = question_item.get(\"content_license\", \"\")\n",
    "  question[\"title\"] = question_item[\"title\"]\n",
    "  question[\"body\"] = question_item[\"body\"]\n",
    "  question[\"link\"] = question_item[\"link\"]\n",
    "  question[\"answers\"] = []\n",
    "\n",
    "  response = session.get(url[\"url\"].format(idx=question_id), params=params)\n",
    "\n",
    "  if response.status_code != 200:\n",
    "    print(\"Error:\", response.status_code)\n",
    "    break\n",
    "  else:\n",
    "    current_page = response.json()\n",
    "    for answer_item in current_page['items']:\n",
    "      if answer_item[\"score\"] >= 0:\n",
    "        answer = {}\n",
    "        answer[\"answer_id\"] = answer_item[\"answer_id\"]\n",
    "        answer[\"score\"] = answer_item[\"score\"]\n",
    "        answer[\"body\"] = answer_item[\"body\"]\n",
    "\n",
    "        question[\"answers\"].append(answer)\n",
    "\n",
    "  questions_data.append(question)\n",
    "  sleep(0.5)"
   ]
  },
  {
   "cell_type": "code",
   "execution_count": 16,
   "metadata": {},
   "outputs": [
    {
     "name": "stdout",
     "output_type": "stream",
     "text": [
      "118\n",
      "{\n",
      "  \"question_id\": 3519,\n",
      "  \"tags\": [\n",
      "    \"police\",\n",
      "    \"search-and-seizure\"\n",
      "  ],\n",
      "  \"score\": 39,\n",
      "  \"license\": \"CC BY-SA 3.0\",\n",
      "  \"title\": \"Consent to searches: Who wins &quot;my-word-against-yours?&quot;\",\n",
      "  \"body\": \"<h3>Hypothetical</h3>\\n\\n<ul>\\n<li>Officer testifies citizen <strong>consented</strong> to be searched.</li>\\n<li>Citizen <strong>denies</strong> consenting to be searched.</li>\\n<li>There is <strong>no other evidence</strong> (that weighs net in favor of either party).</li>\\n</ul>\\n\\n<h1>Question</h1>\\n\\n<blockquote>\\n  <p><strong>Whom does the judge believe?</strong></p>\\n</blockquote>\\n\\n<hr>\\n\\n<h3>Clarifying Discussion</h3>\\n\\n<p><em>from previous comments...</em></p>\\n\\nPoint\\n\\n<p>The testimony of the officer and the citizen would be more complete than just the officer saying \\\"The defendant consented to be searched\\\" and the defendant saying \\\"I did not consent to be searched\\\". Each would give a narrative of the situation that could be cross-examined. This would give the judge more information on which to base a judgement of trustworthiness.</p>\\n\\nResponse\\n\\n<p>Although everything you say is true, to put all that information into the question would miss the point. Which is: What is the <strong><em>standard of proof</em></strong> (for consent to searches)? And is their any \\\"<strong><em>weight</em></strong>\\\" advantage (in practice) for testimony from either side (all other factors being equal). For the purpose of this question, please assume all the other factors (the ones you mention and all the others) cancel out each other. Imagine both narratives agree except in one version the citizen gives consent. In the other he does not.</p>\\n\",\n",
      "  \"link\": \"https://law.stackexchange.com/questions/3519/consent-to-searches-who-wins-my-word-against-yours\",\n",
      "  \"answers\": [\n",
      "    {\n",
      "      \"answer_id\": 3521,\n",
      "      \"score\": 32,\n",
      "      \"body\": \"<p>The Supreme Court has said that \\\"when a prosecutor seeks to rely upon consent to justify the lawfulness of a search, he has the burden of proving that the consent was, in fact, freely and voluntarily given\\\".<sup>1</sup></p>\\n\\n<p>This needs to be \\\"<em>clear and convincing</em>\\\" proof.<sup>2</sup> </p>\\n\\n<p>The \\\"clear and convincing\\\" standard is higher than simply \\\"more likely than not\\\" or \\\"preponderance of the evidence\\\".<sup>3</sup> It has been equated with \\\"highly probable\\\".<sup>4</sup></p>\\n\\n<p>In your hypothetical, the prosecution failed to prove that it was more likely than not that consent was freely and voluntarily given. They are far from meeting the \\\"clear and convincing\\\" standard that is required. The evidence resulting from the search would be excluded.</p>\\n\\n<p>I also recommend <a href=\\\"https://law.stackexchange.com/a/3550/248\\\">gracey209's answer</a>, which explains why this hypothetical is not realistic, and describes many other factors that go into the determination of whether a search is <em>reasonable</em> -- the touchstone of the Fourth Amendment is reasonableness, not consent.</p>\\n\\n<hr>\\n\\n<p><sup>1. <a href=\\\"https://supreme.justia.com/cases/federal/us/391/543/case.html#F12\\\" rel=\\\"noreferrer\\\"><em>Bumper v. North Carolina</em></a> 391 U.S. 543 (1968)</sup></p>\\n\\n<p><sup>2. <em><a href=\\\"https://scholar.google.ca/scholar_case?case=1809597567896812134\\\" rel=\\\"noreferrer\\\">State v. Danby</a></em>, 11 Ohio App. 3d 38 (1983): \\\"Accordingly, a warrantless search based upon the consent of the defendant is valid if his consent is voluntarily given. [...] Furthermore, the degree of proof constitutionally required is proof by \\\"clear and positive\\\" evidence. [...] In construing the phrase \\\"clear and positive\\\" in terms of evidentiary proof, we observe that several courts have held that it is quantitatively equivalent to proof by clear and convincing evidence.\\\"</sup></p>\\n\\n<p><sup>3. <a href=\\\"https://supreme.justia.com/cases/federal/us/523/538/case.html\\\" rel=\\\"noreferrer\\\"><em>Calderon v. Thompson</em></a> 523 U.S. 538 (1998)</sup></p>\\n\\n<p><sup>4. <a href=\\\"https://supreme.justia.com/cases/federal/us/467/310/case.html\\\" rel=\\\"noreferrer\\\"><em>Colorado v. New Mexico</em></a> 467 U.S. 310 (1984): \\\"Last Term, the Court made clear that Colorado's proof would be judged by a clear and convincing evidence standard. [... W]e thought a diversion of interstate water should be allowed only if Colorado could place in the ultimate factfinder an abiding conviction that the truth of its factual contentions are highly probable.\\\"</sup></p>\\n\"\n",
      "    },\n",
      "    {\n",
      "      \"answer_id\": 3550,\n",
      "      \"score\": 25,\n",
      "      \"body\": \"<p>This is not a simple question. There are hundreds of page treatises on consent - explicit, implied, obtained by trickery, revoked, coerced by show, coerced by intimidation. If it ever was just a he said (s)he said situation, that certainly  does not mean that the testimony of those two individuals are all that's considered to determine (1) that the prosecutor failed to meet it's burden; nor does it mean (2) that the consent was (legally) given. None of these answers (nor this answer) could possibly adequately  address the complexity of the analysis a court will endeavor to undertake when evidence is the result of a search that was alleged to be consensual. The court will look to the totality of the circumstances to make this determination.</p>\\n\\n<p>What is correct is that this is a question of law for a judge, and not a question of fact for a jury.</p>\\n\\n<p>The clarifying comments (somewhat) allude to the depth of the inquiry. What is a complete misnomer is that there is one standard or burden, because they can shift based on the circumstances and the arguments made. It is always going to undertake a complete analysis of the entirety of the circumstances and never just the testimony of cop vs. suspect.</p>\\n\\n<p>The what, where, who and when of the search are also really important and will always impact the ruling. Was it a car? Rules as to vehicular searches are different depending on the circumstances. Who agreed to the search - a child?  A roommate? A spouse or domestic partner? Different rules apply to all these situations.  What was searched? Was it a house? A hotel room? Rules apply to threshold entry. If a dwelling and the defendant did not consent, how did they get in? Was the door broken? What was the scope of the search? Was it invasive or limited? Did it start with plain view evidence?  Was it a search of person? At an airport? At customs? Were they already under x-ray analysis? Was Miranda issued? These and many other things matter....a lot!</p>\\n\\n<p>It is almost never just the defendant saying that consent wasn't given (eg. police search because of consent then defendant denies consent)  There is always intrinsic or extrinsic evidence to consider. Actual physical or  circumstantial evidence. Witnesses to the search. Something. </p>\\n\\n<p>Typically, what you see are cases where the scope of consent is broadened by the police without additional consent, (eg. defendant said police could look around living room and they opened up drawers or went into the kitchen), or coercion is argued, or most commonly, it is argued that although consent was given, it was involuntary. There are a million ways to argue these factors but nobody will ever believe the police searched on consent when it just blatantly never happened. They don't. They would sooner make up probable cause for a warrant, or claim that there was exigent circumstances than search based on consent that never occurred. Consent happens all the time. It is the most used type of search leading to arrest, because people just don't think they can say no. Testimony of the defendant alone is rarely going to be enough to overturn a search. There is <em>always</em> something more. The analysis is based on the totality of the circumstances....the court(s) have said this time and time again.</p>\\n\\n<p>As the United States Supreme Court explained, \\u201cThe standard for measuring the scope of a suspect\\u2019s consent (or if a suspect consented) under the Fourth Amendment is that of objective reasonableness - what would the typical reasonable person have understood by the exchange between the officer and the suspect?\\u201d <em>Florida v. Jimeno (1991) 500 U.S. 248, 251</em></p>\\n\"\n",
      "    },\n",
      "    {\n",
      "      \"answer_id\": 3523,\n",
      "      \"score\": 9,\n",
      "      \"body\": \"<blockquote>\\n  <p><strong>Whom does the judge believe?</strong></p>\\n</blockquote>\\n\\n<p>The judge believes the more credible witness.</p>\\n\\n<p>Weight of witness testimony is all about credibility. \\\"There is no law on judging credibility. Judges and jurors receive guidelines and elementary observations in the form of stock instructions but are essentially free to decide for themselves.\\\" (<a href=\\\"http://www.cod.uscourts.gov/Portals/0/Documents/Judges/JLK/Judging_Credibility_LITMAG_Spring07_kane.pdf\\\" rel=\\\"nofollow\\\">Judging Credibility</a>, by John Kane)</p>\\n\\n<p>Here is a <a href=\\\"http://www.jud.ct.gov/ji/criminal/part1/1.2-8.htm\\\" rel=\\\"nofollow\\\">jury instruction from CT</a>:</p>\\n\\n<blockquote>\\n  <p>Police will be testifying in this case. You must determine the\\n  credibility of police officials in the same way and by the same\\n  standards as you would evaluate the testimony of any other witness.\\n  The testimony of a police official is entitled to no special or\\n  exclusive weight merely because it comes from a police official. You\\n  should recall (his/her) demeanor on the stand and manner of\\n  testifying, and weigh and balance it just as carefully as you would\\n  the testimony of any other witness. You should neither believe nor\\n  disbelieve the testimony of a police official just because (he/she) is\\n  a police official.</p>\\n</blockquote>\\n\\n<p>And a <a href=\\\"http://www.rid.uscourts.gov/menu/judges/jurycharges/CVdocs/09-348S%20Santos%20v.%20Providence.pdf\\\" rel=\\\"nofollow\\\">jury instruction about weight of testimony</a> (page 11):</p>\\n\\n<blockquote>\\n  <p>In evaluating the testimonial evidence, remember that you are not\\n  required to believe something to be a fact simply because a witness\\n  has stated it to be a fact and no one has contradicted what that\\n  witness said.  If, in the light of all of the evidence, you believe\\n  that the witness is mistaken or has testified falsely or that he or\\n  she is proposing something that is inherently impossible or unworthy\\n  of belief, you may disregard that witness' testimony even in the\\n  absence of any contradictory evidence....</p>\\n  \\n  <p>...just because one witness testifies on one side of an issue and one\\n  witness testifies on the other side does not necessarily mean that you\\n  must consider the evidence evenly balanced.  If you feel that one of\\n  the witnesses was more credible than the other, for whatever reason,\\n  you may find that the weight of the evidence lies on the side of that\\n  witness.</p>\\n</blockquote>\\n\\n<hr>\\n\\n<p>EDITS:</p>\\n\\n<p>In criminal cases juries do not decide consent:</p>\\n\\n<blockquote>\\n  <p>...the question of the competency of the evidence... by reason of the\\n  legality or otherwise of its seizure was a question of fact and law\\n  for the court and not for the jury.</p>\\n</blockquote>\\n\\n<p><a href=\\\"https://supreme.justia.com/cases/federal/us/267/498/case.html\\\" rel=\\\"nofollow\\\">Steele v. United States</a>, 267 U.S. 505, 45 S.Ct. 417, 69 L.Ed. 761 (1925)</p>\\n\\n<p>see also <a href=\\\"https://supreme.justia.com/cases/federal/us/232/94/case.html\\\" rel=\\\"nofollow\\\">Gila Valley, Globe Northern Railway Company v. John Hall</a>, 232 U.S. 94, 34 S.Ct. 229, 58 L.Ed. 521 (1914)</p>\\n\\n<blockquote>\\n  <p>Questions of the admissibility of evidence are for the determination\\n  of the court; and this is so whether its admission depend upon matter\\n  of law or upon matter of fact.</p>\\n</blockquote>\\n\\n<p>Judges make determinations on motions to suppress during pretrial motions (<a href=\\\"https://www.law.cornell.edu/rules/frcrmp/rule_12\\\" rel=\\\"nofollow\\\">Fed. R. Crim. P. 12(b)(3)(C)</a>) This \\\"is designed to eliminate from the trial disputes over police conduct not immediately relevant to the question of guilt.\\\" <a href=\\\"https://apps.fastcase.com/Research/Public/ExViewer.aspx?LTID=6rgRzyE6siLgYsB8vUJnojKOUWo2tSvm9nI/vtWi6zo%20FVr5BY2vUEGO4AF52xXpnzhIuGODUJKu5ntxOq0UvHFzZ9dWxpQ8QTevz%200JIDX1XbXni5hSH6sU2iMuPD55HEQm9N5JM1itV6yhrpiTBhQhpxPdTAA5auMMGoDoo/c=\\\" rel=\\\"nofollow\\\">Jones v. United States, 362 U.S. 257</a>, 80 S.Ct. 725, 4 L.Ed.2d 697, 78 A.L.R.2d 233 (1960) overruled on other grounds by United States v. Salvucci, 448 U.S. 83, 85, 100 S.Ct. 2547, 65 L.Ed.2d 619 (1980)</p>\\n\\n<p>There is a great old article arguing that juries should decide questions of consent based on the power of jury nullification. (<a href=\\\"http://scholarship.richmond.edu/cgi/viewcontent.cgi?article=1173&amp;context=law-faculty-publications\\\" rel=\\\"nofollow\\\">A Case For Jury Determination Of Search And Seizure Law</a> by Ronald J. Baciga) The argument goes something like this - a crime was committed in a bedroom, and during the course of the trial on the merits the jury found out that the reason the police knew about the crime was because a cop was peeping through the curtains. If the jury was so offended by the police activity they could acquit, thus nullifying the judges determination that a search was lawful. On the other hand, what usually happens is that the cop goes and gets a warrant, and all the jury hears about during the trial is the warrant because the judge decided before the trial on the merits that the chain of events leading to the warrant was lawful. (Incidentally, this is not a question of credibility but could easily be extended there.)</p>\\n\\n<p>There is no indication of whether this question regards  criminal or civil cases. Based on the order the facts are presented (cop goes first), I assumed criminal. But the facts could also apply to a civil case for deprivation of constitutional rights. In a <a href=\\\"https://www.law.cornell.edu/uscode/text/42/1983\\\" rel=\\\"nofollow\\\">\\u00a7 1983 civil action</a> the jury decides the issue of consent, and it's the plaintiff who must prove that the search was not voluntary or, said differently, that an asserted exception to the warrant requirement did not apply. <a href=\\\"http://openjurist.org/16/f3d/1513\\\" rel=\\\"nofollow\\\">Larez v. Holcomb, 16 F.3d 1513</a>, 1517\\u201318 (9th Cir.1994) The standard of proof is preponderance of the evidence. (according to the <a href=\\\"http://www3.ce9.uscourts.gov/jury-instructions/node/151\\\" rel=\\\"nofollow\\\">Model Civil Jury Instruction for the 9th Circuit</a> - Washington State uses a <a href=\\\"https://govt.westlaw.com/wciji/Document/I2cd37152e10d11dab058a118868d70a9?viewType=FullText&amp;originationContext=documenttoc&amp;transitionType=CategoryPageItem&amp;contextData=%28sc.Default%29\\\" rel=\\\"nofollow\\\">similar instruction</a> for fourth amendment cases) The model instruction also provides some factors for the jury to consider:</p>\\n\\n<blockquote>\\n  <p>whether the consenting person was in custody;</p>\\n  \\n  <p>whether officers\\u2019 guns were drawn;</p>\\n  \\n  <p>whether the consenting person was told he or she had the right to\\n  refuse a request to search;</p>\\n  \\n  <p>whether the consenting person was told he or she was free to leave;</p>\\n  \\n  <p>whether Miranda warnings were given;</p>\\n  \\n  <p>whether the consenting person was told a search warrant could be\\n  obtained;</p>\\n  \\n  <p>any other circumstances applicable to the particular case.</p>\\n</blockquote>\\n\"\n",
      "    },\n",
      "    {\n",
      "      \"answer_id\": 3524,\n",
      "      \"score\": 6,\n",
      "      \"body\": \"<p>The <a href=\\\"https://en.wikipedia.org/wiki/Legal_burden_of_proof\\\" rel=\\\"noreferrer\\\">Legal burden of proof</a> is a common law doctrine which can be summarised as \\\"he who asserts must prove\\\". </p>\\n\\n<p>In the circumstances that you describe, the police officer must bring forward sufficient evidence to meet the required burden - as @nomenagentis has said (with citations!) this is a \\\"clear and convincing\\\" burden which ranks just below the \\\"beyond reasonable doubt\\\" burden required for a criminal conviction.</p>\\n\\n<p>If the entire evidence of the officer is their assertion that \\\"The defendant consented to be searched\\\" then the defendant's counter-evidence of \\\"No, I didn't\\\" means that the burden has not been reached. </p>\\n\"\n",
      "    }\n",
      "  ]\n",
      "}\n"
     ]
    }
   ],
   "source": [
    "print(len(questions_data))\n",
    "print(json.dumps(questions_data[-1], indent=2))"
   ]
  },
  {
   "cell_type": "code",
   "execution_count": 17,
   "metadata": {},
   "outputs": [],
   "source": [
    "# Save the whole data\n",
    "\n",
    "# output_file_name = \"law.stackexchange-questions-answers.json\"\n",
    "output_file_name = \"law.stackexchange-questions-answers.json\"\n",
    "\n",
    "full_output_path = os.path.join(file_path, output_file_name)\n",
    "\n",
    "with open(full_output_path, \"w+\") as output:\n",
    "  json.dump(questions_data, output, indent=4)"
   ]
  },
  {
   "cell_type": "code",
   "execution_count": 18,
   "metadata": {},
   "outputs": [],
   "source": [
    "import os\n",
    "import json\n",
    "\n",
    "# output_file_name = \"law.stackexchange-questions-answers.json\"\n",
    "output_file_name = \"law.stackexchange-questions-answers.json\"\n",
    "\n",
    "full_output_path = os.path.join(file_path, output_file_name)\n",
    "\n",
    "with open(full_output_path, \"r\") as output:\n",
    "  questions_answers = json.load(output)"
   ]
  },
  {
   "cell_type": "code",
   "execution_count": 19,
   "metadata": {},
   "outputs": [
    {
     "data": {
      "text/plain": [
       "118"
      ]
     },
     "execution_count": 19,
     "metadata": {},
     "output_type": "execute_result"
    }
   ],
   "source": [
    "len(questions_answers)"
   ]
  },
  {
   "cell_type": "code",
   "execution_count": 20,
   "metadata": {},
   "outputs": [
    {
     "name": "stdout",
     "output_type": "stream",
     "text": [
      "{\n",
      "    \"question_id\": 36259,\n",
      "    \"tags\": [\n",
      "        \"contract-law\",\n",
      "        \"employment\"\n",
      "    ],\n",
      "    \"score\": 232,\n",
      "    \"license\": \"CC BY-SA 4.0\",\n",
      "    \"title\": \"If a company agrees to pay travel cost for a job interview, is the promise binding and enforceable?\",\n",
      "    \"body\": \"<p>There is a question on workplace.SE about a company which offered to pay travel costs for a job interview, but canceled the return ticket after ending the interview - <a href=\\\"https://workplace.stackexchange.com/questions/126565/potential-employer-cancels-return-flight\\\">Potential Employer Cancels Return Flight</a>.</p>\\n\\n<p>Generally, when arranging a job interview which requires the candidate to travel, it is common for the potential employer to pay travel cost and lodging for the candidate. In practice, the employer will ususally offer this, often in writing, but not write up a formal contract or similar document.</p>\\n\\n<p><strong>In that situation, can the employer later renege on the promise to pay costs?</strong> In particular, can they renege after the candidate has begun their journey, thus saddling the candidate with the travel cost?</p>\\n\\n<hr>\\n\\n<p>My thoughts:</p>\\n\\n<ul>\\n<li>On the one hand, a simple one-sided promise is usually not binding, as a binding agreement requires both sides to give something (called <a href=\\\"https://en.wikipedia.org/wiki/Consideration\\\" rel=\\\"noreferrer\\\">consideration</a> in Common law).</li>\\n<li>On the other hand, there is the notion of <a href=\\\"https://www.mccaberabin.com/business-copyright-faq/what-is-detrimental-reliance/\\\" rel=\\\"noreferrer\\\">detrimental reliance</a>, which appears to fit here. Also, one could argue that the candidate <em>does</em> provide something in exchange, namely their presence and willingness to attend the interview (basically, the company trades travel costs for having the candidate  present for the interview).</li>\\n</ul>\\n\\n<p>So, is the promise to pay the candidate's cost enforceable or not?</p>\\n\\n<p>Im interested in any jurisdiction, particularly European and US.</p>\\n\",\n",
      "    \"link\": \"https://law.stackexchange.com/questions/36259/if-a-company-agrees-to-pay-travel-cost-for-a-job-interview-is-the-promise-bindi\",\n",
      "    \"answers\": [\n",
      "        {\n",
      "            \"answer_id\": 36261,\n",
      "            \"score\": 180,\n",
      "            \"body\": \"<p>This aspect (and many others) of contract law is applicable in the US and various countries of the EU.</p>\\n<blockquote>\\n<p>can they renege after the candidate has begun their journey, thus\\nsaddling the candidate with the travel cost?</p>\\n</blockquote>\\n<p>No. The company would incur breach of contract.</p>\\n<p>There is no need for a formal contract. The candidate only needs to prove that the company agreed (in writing, orally or clearly through its conduct) to cover or reimburse those expenses and that this elicited a <em><a href=\\\"https://en.wikipedia.org/wiki/Meeting_of_the_minds\\\" rel=\\\"noreferrer\\\">meeting of the minds</a></em>.</p>\\n<p>The agreement would be void if the candidate incurred the expenses despite knowing (via timely notice) that the company changed its mind.</p>\\n<p>Likewise, if the candidate lied on his CV, the contract (here, the company's agreement to cover the expenses) would be voidable by the company, since the candidate's intentional misrepresentations preclude the aforementioned condition of meeting of the minds.</p>\\n<p><strong>--Edited on 1/18/2019 to add ...--</strong></p>\\n<p>Per <a href=\\\"https://law.stackexchange.com/questions/36259/if-a-company-agrees-to-pay-travel-cost-for-a-job-interview-is-the-promise-bindi/36261?noredirect=1#comment65265_36261\\\">suggestion</a> by @KRyan, the aspect of <em>void or voidable contract</em> is expanded. But first, two disclaimers are pertinent:</p>\\n<ul>\\n<li>We need to be mindful that many of the follow-up concerns are either\\npremised on or inspired by the situation described in the underlying\\n<a href=\\\"https://workplace.stackexchange.com/questions/126565/potential-employer-flew-me-out-for-interview-cancels-return-flight\\\">Workplace SE post</a>. These are somewhat beyond the scope of this Law SE\\nquestion but addressed nonetheless, given their relevance as well as the OP's &amp; audience's\\ninterest.</li>\\n<li>The follow-up hypotheticals [in this Law SE question] and\\nclarifications thereto neither speculate nor pass judgment on the\\nstranded candidate who asked on Workplace SE. The Workplace SE post\\nreflects a company's <em>breach of contract</em>. The subsequent comments here about <em>fraud\\nhypotheticals</em> are mostly derivative inquiries beyond what\\nis described in Workplace SE. In particular, we do <strong>not</strong> assume\\nwhatsoever that the stranded candidate committed fraud.</li>\\n</ul>\\n<p><a href=\\\"https://law.stackexchange.com/questions/36259/if-a-company-agrees-to-pay-travel-cost-for-a-job-interview-is-the-promise-bindi/36261?noredirect=1#comment65229_36261\\\">The_Sympathizer</a> commented:</p>\\n<blockquote>\\n<p>can the contract be voided <em>on the spot</em> like that without first\\nproving in court? As it seems like it grants a rather &quot;vigilante&quot;\\njustice power that is open to abuse, since effectively the\\n&quot;punishment&quot; (cancellation of the flight and thus inducing a rather\\nserious physical situation) is administered before any due process has\\nbeen afforded the one accused.</p>\\n</blockquote>\\n<p>Yes, it can be voided <em>on the spot</em> (aka <em>sua sponte</em>).</p>\\n<p>&quot;Vigilante&quot; justice denotes a self-attribution of <em>punitive</em> powers that exclusively belong to the state/government/court, whereas a party's voiding of a contract is the act of <em>foreclosing</em> his losses/exposures with respect to a contract that <em>de facto</em> never existed (such as when that contract was induced by fraud).</p>\\n<p>I agree that unfortunately that is open to abuse: As a pretext to actually incur <em>breach of contract</em>, a company might allege that the contract was void. That is why (if taken to court) it will be the company's burden to prove that (1) it reasonably relied upon a candidate's representations (2) which were significant and blatantly false (3) given the candidate's knowledge that his lies contravened the job's core requirements.</p>\\n<p>That can be quite burdensome. For instance, is the company handing out airfares without first conducting some <em>competent</em> corroborations about the candidate's credentials/skills? If so, one can hardly concede the company's allegation of <em>reasonable reliance</em>. The resulting finding would be that the contract was not voidable by the company, and thus that it is liable for <em>breach of contract</em>.</p>\\n<p>Also, belatedly &quot;informing&quot; the stranded candidate that the company &quot;<em>is going in a different direction</em>&quot; falls short of evidencing that the contract was voidable. That applies even if the candidate <a href=\\\"https://law.stackexchange.com/questions/36259/if-a-company-agrees-to-pay-travel-cost-for-a-job-interview-is-the-promise-bindi/36261?noredirect=1#comment65255_36261\\\">performed very poorly in the interview</a> or screening process.</p>\\n<p>Given the hardship imposed on a stranded candidate, a company has to be morally and legally very judicious about its method and timing for &quot;<em>going in a different direction</em>&quot;.</p>\\n<p>But absent any representations or [company's] bylaws to the contrary, a company generally does not have the obligation to afford <em>due process</em> to a candidate. The court <em>is</em> the entity with an obligation to enforce <em>due process</em> as provided by law (although many of us in the U.S. have repeatedly experienced the courts' disavowal of <em>due process</em>).</p>\\n<p><strong>--End of edit on 1/19/2019--</strong></p>\\n<blockquote>\\n<p>a binding agreement requires both sides to give something</p>\\n</blockquote>\\n<p>Here, the candidate's consideration is his time and effort to accommodate the company's interest in assessing the candidate's profile at a location that is convenient to the company.</p>\\n\"\n",
      "        },\n",
      "        {\n",
      "            \"answer_id\": 36278,\n",
      "            \"score\": 38,\n",
      "            \"body\": \"<p>Yes the promise is binding and enforceable because of the reasons you mentioned (your consideration is making yourself available at the company's premises, and, should that not be convincing enough, detrimental reliance wipes out any doubt). You have a perfectly valid contract here.</p>\\n\\n<p>However, a perfectly valid contract means that <em>both</em> parties need to perform as they represented they will, and <em>both</em> can be entitled to damages should the other party fail to fulfill their obligations.</p>\\n\\n<p><em>If</em> you made false representations prior to them booking the flights/accommodation (including, but not limited to lying on the CV), the company's damages may be not just what they paid to see you face to face, but also their time (which is, you know, money) and missed opportunities in hiring other candidates (which they would have invited instead of you). In this situation, should the case go to court, you are highly likely to end up owing them.</p>\\n\\n<p>So, if you are sure that you did not make false representations and, otherwise, are not in breach of this contract, then you have a great opportunity not only to get your unexpected expenses reimbursed, but also name/shame the company and give them a great lesson. Otherwise, consider yourself lucky they are not doing the same to you.</p>\\n\"\n",
      "        },\n",
      "        {\n",
      "            \"answer_id\": 36342,\n",
      "            \"score\": 20,\n",
      "            \"body\": \"<p>As the question specifically asks for different jurisdictions, i'd like to weigh in with <strong>my interpretation of German law</strong>:</p>\\n\\n<p><strong><a href=\\\"http://www.gesetze-im-internet.de/bgb/__670.html\\\" rel=\\\"noreferrer\\\">\\u00a7670 of the Civil Code (source in German)</a></strong> (B\\u00fcrgerliches Gesetzbuch, BGB) should be applicable. - @nwellnhof suggested in a comment that it shouldn't, but the definition of typical contractual obligations in the case of an <em>assignment</em> (the German legal term is \\\"Auftrag\\\") in \\u00a7662 BGB states just <strong>two main conditions</strong>: The <strong><em>assignee</em></strong> (\\\"Beauftragter\\\") <strong>promises to do something</strong> (\\\"Gesch\\u00e4ft [...] besorgen\\\") for the <em>assigner</em> (\\\"Auftraggeber\\\") <strong>free of charge</strong> (\\\"unentgeltlich\\\"). - Thus, in my opinion, the \\\"Auftrag\\\" is the proper construct to handle this case.</p>\\n\\n<p>\\u00a7670 BGB states, that <strong>a person who designates another person to do something, is required to reimburse any expenses</strong> that the other person was allowed - according to the circumstances - to consider <strong>necessary</strong>. (\\\"Macht der Beauftragte zum Zwecke der Ausf\\u00fchrung des Auftrags Aufwendungen, die er den Umst\\u00e4nden nach f\\u00fcr erforderlich halten darf, so ist der Auftraggeber zum Ersatz verpflichtet.\\\")</p>\\n\\n<p><strong><a href=\\\"http://www.gesetze-im-internet.de/bgb/__669.html\\\" rel=\\\"noreferrer\\\">\\u00a7669 of the Civil Code (source in German)</a></strong> (BGB) makes it clear, that the <strong>designated person can claim the necessary expenses in advance</strong>. (\\\"F\\u00fcr die zur Ausf\\u00fchrung des Auftrags erforderlichen Aufwendungen hat der Auftraggeber dem Beauftragten auf Verlangen Vorschuss zu leisten.\\\")</p>\\n\\n<p>These conditions are probably <strong>negotiable</strong>, but <strong>without another agreement they are the default regulation</strong>.</p>\\n\\n<p>Thus, <strong>if a company invites someone, without making it reasonably clear in advance that they won't pay for expenses, they are legally obligated to pay.</strong> </p>\\n\"\n",
      "        },\n",
      "        {\n",
      "            \"answer_id\": 36344,\n",
      "            \"score\": 20,\n",
      "            \"body\": \"<p>Under UK law you can recover any costs from them. You will need some basic evidence, such as emails or letters where they state they will fly you home.</p>\\n\\n<p>Your costs are things you would not have had to pay if they had not stranded you. Food costs above what it costs you to eat at home, any services like hotels, showers, wifi etc, and of course your greyhound ticket and whatever it cost your friend in petrol. In fact you should claim mileage (typically 50p/mile) for your friend's car, plus any time they had off work.</p>\\n\\n<p>If you were unable to work any days you should claim you full day rate too.</p>\\n\\n<p>Add interest, any bank charges you had (e.g. credit card interest, overdrafts) and the like.</p>\\n\\n<p>Small Claims Court is probably your best bet. It's cheap, you can do it online and you don't need a lawyer. Just turn up and explain what happened to the judge. Best of all it will be your local court, so if they want to defend themselves they will have to send someone or hire a local lawyer. The judge will by sympathetic and helpful, and not expect you to be a legal expert.</p>\\n\\n<p>Small Claims court has a maximum claim of \\u00a310,000.</p>\\n\\n<p>You can also claim for your suffering. It's difficult to put a precise figure on what you should get for your ordeal, but three days in an airport and having to eat scraps... I'd suggest \\u00a33000 as a starting point (\\u00a31000/day), assuming it doesn't push your total claim over the \\u00a310,000 mark.</p>\\n\"\n",
      "        },\n",
      "        {\n",
      "            \"answer_id\": 36372,\n",
      "            \"score\": 9,\n",
      "            \"body\": \"<p>Under English Law to form a contract, the essential elements are:\\n  1. an offer capable of acceptance\\n  2. unequivocal acceptance of the offer by the other party\\n  3. contractual consideration\\n  4. capacity to enter to in a contract, and \\n  5. intention to create legal relations, but \\n  6. has no vitiating factors - the ones that might apply are representation and the law of mistake.</p>\\n\\n<ol>\\n<li>They made an offer capable of acceptance</li>\\n<li>You accepted the offer.</li>\\n<li>Their consideration was payment of the flights. Your consideration was attending the interview.</li>\\n<li>They're  company. You're over 18. Both have legal capacity to enter a contract.</li>\\n<li>Intention to create a legal relationship? It was a commercial relationship. It's presumed.</li>\\n</ol>\\n\\n<p>We're up to number 5. That's a legally binding contract. Doesn't matter whether it's in writing or an oral agreement. The interviewee might have problems with proof of the agreement if it's only an oral agreement.</p>\\n\\n<ol start=\\\"6\\\">\\n<li>Misrepresentation or Mistake of law? Nowhere in sight in your question.</li>\\n</ol>\\n\\n<p>Seriously, it's that simple. There's no need to go anywhere near estoppel arguments (ie detrimental reliance). It's pleader's last resort (ie you don't claim estoppel unless you have nothing else to hang your hat on).</p>\\n\\n<p>So by not paying for the flights, It's a breach of contract. The sum of damages would start with the costs of the flight. The sum payable as damages would be the sum to put the interviewee in the position s/he would have been in if the breach had not taken place.  </p>\\n\"\n",
      "        },\n",
      "        {\n",
      "            \"answer_id\": 36364,\n",
      "            \"score\": 7,\n",
      "            \"body\": \"<p>I would argue that the company, inviting a candidate to an interview and giving them a paid return air ticket, enters a relationship where they now have a duty of care to get that person back home by letting them use the return flight. </p>\\n\\n<p>Whatever disagreement they have with the candidate, that can be sorted out once the person is back home. They can try to charge him for the ticket, or for half the ticket, or whatever - but they have a duty of care to get them home first. </p>\\n\\n<p>In English law, the rules for liability are: </p>\\n\\n<ol>\\n<li>Harm must be a \\\"reasonably foreseeable\\\" result of the defendant's conduct;</li>\\n<li>A relationship of \\\"proximity\\\" must exist between the defendant and the claimant;</li>\\n<li>It must be \\\"fair, just and reasonable\\\" to impose liability</li>\\n</ol>\\n\\n<p>I would say that all three apply in this situation, where the harm of being stranded at an airport without a ticket is \\\"reasonably foreseeable\\\", there was a relationship because the person was invited to an interview, and it is \\\"fair, just and reasonable\\\" to impose liability because the company caused the interviewee major cost and inconvenience to gain a small amount of money, that they could have easily got directly from the interviewee. </p>\\n\\n<p>Interestingly this doesn't answer the direct question (is the promise to pay the travel cost binding and enforceable), but here the actual damage caused was substantially higher than the normal cost of travel. If the company had said \\\"please book the tickets under your own name and at your own cost, and we will refund the cost\\\", it would have been a lot less damage if they had refused to pay later. </p>\\n\"\n",
      "        },\n",
      "        {\n",
      "            \"answer_id\": 36279,\n",
      "            \"score\": 4,\n",
      "            \"body\": \"<p>There are several times I've had interviews where I did not lie on my CV/Resume but did not fit the bill.  However, when I got to the interview the job description was misleading or off, or they asked questions that were no were related to the job description.</p>\\n\\n<p>People here are blaming you without actually having any information to back that up.  Also, I believe that there is no excuse to strand someone like that and in a court, you will be able to hold the upper hand here.  I suggest contacting a lawyer and finding out your options.</p>\\n\\n<p>I've done several interviews where I flew somewhere, bombed the interview, and still was able to get home safely.  What the company did was place your health, safety, and financial situation in jeopardy.  Regardless of the situation, no company should just strand someone like that.  It's petty and immature and I personally would never want to work for a company like that.</p>\\n\"\n",
      "        }\n",
      "    ]\n",
      "}\n"
     ]
    }
   ],
   "source": [
    "print(json.dumps(questions_answers[0], indent=4))"
   ]
  },
  {
   "cell_type": "code",
   "execution_count": null,
   "metadata": {},
   "outputs": [],
   "source": []
  }
 ],
 "metadata": {
  "kernelspec": {
   "display_name": ".venv",
   "language": "python",
   "name": "python3"
  },
  "language_info": {
   "codemirror_mode": {
    "name": "ipython",
    "version": 3
   },
   "file_extension": ".py",
   "mimetype": "text/x-python",
   "name": "python",
   "nbconvert_exporter": "python",
   "pygments_lexer": "ipython3",
   "version": "3.12.7"
  }
 },
 "nbformat": 4,
 "nbformat_minor": 2
}
