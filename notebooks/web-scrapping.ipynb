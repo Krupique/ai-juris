{
 "cells": [
  {
   "cell_type": "markdown",
   "metadata": {},
   "source": [
    "StackExchange App\n",
    "\n",
    "https://stackapps.com/apps/oauth/view/30531#\n",
    "\n",
    "Ref: https://huggingface.co/datasets/ymoslem/Law-StackExchange/blob/main/StackExchange.ipynb"
   ]
  },
  {
   "cell_type": "code",
   "execution_count": 85,
   "metadata": {},
   "outputs": [],
   "source": [
    "import pandas as pd\n",
    "import re\n",
    "import requests\n",
    "from requests.adapters import HTTPAdapter, Retry\n",
    "from requests.exceptions import ConnectionError\n",
    "from tqdm.notebook import tqdm\n",
    "import json\n",
    "from time import sleep"
   ]
  },
  {
   "cell_type": "code",
   "execution_count": 86,
   "metadata": {},
   "outputs": [],
   "source": [
    "with open('../ignore/secret.json', 'r', encoding='utf-8') as file:\n",
    "    secret_key = json.load(file)\n"
   ]
  },
  {
   "cell_type": "code",
   "execution_count": 87,
   "metadata": {},
   "outputs": [],
   "source": [
    "# Which site to extract questions from\n",
    "\n",
    "site = \"law\"  # \"law\" or \"medicalsciences\" etc."
   ]
  },
  {
   "cell_type": "markdown",
   "metadata": {},
   "source": [
    "## Get Questions"
   ]
  },
  {
   "cell_type": "code",
   "execution_count": 88,
   "metadata": {},
   "outputs": [],
   "source": [
    "url = \"https://api.stackexchange.com/2.3/questions/\"\n",
    "params = {\"client_secret\": secret_key['secret '],\n",
    "          \"key\": secret_key['key '],\n",
    "          \"site\": site,\n",
    "          \"filter\": \"withbody\",\n",
    "          \"order\":\"desc\",\n",
    "          \"sort\":\"votes\",\n",
    "          \"pagesize\":100\n",
    "          }\n",
    "\n",
    "max_pages = 300 # 300 for law or 80 for medicalsciences\n",
    "\n",
    "retries = Retry(total=5,\n",
    "                backoff_factor=0.1,\n",
    "                status_forcelist=[500, 502, 503, 504, 429])\n",
    "\n",
    "adapter = HTTPAdapter(max_retries=retries)\n",
    "session = requests.Session()\n",
    "\n",
    "# Use the adapter for all requests to endpoints that start with this URL\n",
    "session.mount('https://api.stackexchange.com/', adapter)\n",
    "\n",
    "retrieved_data = []"
   ]
  },
  {
   "cell_type": "code",
   "execution_count": 89,
   "metadata": {},
   "outputs": [
    {
     "data": {
      "application/vnd.jupyter.widget-view+json": {
       "model_id": "9757af6f778340e1b51938bf8df29d84",
       "version_major": 2,
       "version_minor": 0
      },
      "text/plain": [
       "  0%|          | 0/300 [00:00<?, ?it/s]"
      ]
     },
     "metadata": {},
     "output_type": "display_data"
    }
   ],
   "source": [
    "for page in tqdm(range(max_pages)):\n",
    "  params[\"page\"] = page+1\n",
    "  response = session.get(url, params=params)\n",
    "\n",
    "  if response.status_code != 200:\n",
    "    print(\"Error:\", response.status_code)\n",
    "    break\n",
    "  else:\n",
    "    current_page = response.json()\n",
    "    for item in current_page['items']:\n",
    "      retrieved_data.append(item)\n",
    "    if current_page[\"has_more\"] == False:\n",
    "      print(\"No more pages\")\n",
    "      break"
   ]
  },
  {
   "cell_type": "code",
   "execution_count": 90,
   "metadata": {},
   "outputs": [
    {
     "data": {
      "text/plain": [
       "30000"
      ]
     },
     "execution_count": 90,
     "metadata": {},
     "output_type": "execute_result"
    }
   ],
   "source": [
    "len(retrieved_data)"
   ]
  },
  {
   "cell_type": "code",
   "execution_count": 91,
   "metadata": {},
   "outputs": [
    {
     "name": "stdout",
     "output_type": "stream",
     "text": [
      "{\n",
      "    \"tags\": [\n",
      "        \"united-kingdom\",\n",
      "        \"interpretation\",\n",
      "        \"judiciary\",\n",
      "        \"equality-act-2010\"\n",
      "    ],\n",
      "    \"owner\": {\n",
      "        \"account_id\": 27127305,\n",
      "        \"reputation\": 1,\n",
      "        \"user_id\": 48046,\n",
      "        \"user_type\": \"registered\",\n",
      "        \"profile_image\": \"https://www.gravatar.com/avatar/2b42ab6e24f8294aba29c8440f7e8384?s=256&d=identicon&r=PG\",\n",
      "        \"display_name\": \"TylerDurden\",\n",
      "        \"link\": \"https://law.stackexchange.com/users/48046/tylerdurden\"\n",
      "    },\n",
      "    \"is_answered\": true,\n",
      "    \"view_count\": 364,\n",
      "    \"accepted_answer_id\": 94472,\n",
      "    \"answer_count\": 2,\n",
      "    \"score\": -3,\n",
      "    \"last_activity_date\": 1691150237,\n",
      "    \"creation_date\": 1690661713,\n",
      "    \"last_edit_date\": 1690830120,\n",
      "    \"question_id\": 94292,\n",
      "    \"content_license\": \"CC BY-SA 4.0\",\n",
      "    \"link\": \"https://law.stackexchange.com/questions/94292/what-is-the-judicial-rationale-for-introducing-the-grainger-test-to-qualify-beli\",\n",
      "    \"title\": \"What is the judicial rationale for introducing the grainger test to qualify beliefs?\",\n",
      "    \"body\": \"<p><a href=\\\"https://www.legislation.gov.uk/ukpga/2010/15/section/10?timeline=false\\\" rel=\\\"nofollow noreferrer\\\">Section 10 Equality Act 2010</a> seems very clear that \\u201cbelief means <em>any</em> religious or philosophical belief\\u201d. (Emphasis added)</p>\\n<p>Yet, the employment tribunal in <em>Grainger</em> set down a five limb test which functions to exclude certain philosophical beliefs from protection of the act.</p>\\n<p>But how can that be read to exclude \\u201cany\\u201d beliefs from protection, however frivolous, or however unsavourily transphobic or fascist they may be? More to the point, how did the tribunal account in this for the word \\u201cany\\u201d?</p>\\n<p>(Note: I am referring mainly to the judicially set down \\u201cgrainger test\\u201d.)</p>\\n\"\n",
      "}\n"
     ]
    }
   ],
   "source": [
    "import json\n",
    "\n",
    "print(json.dumps(retrieved_data[-1], indent=4))"
   ]
  },
  {
   "cell_type": "code",
   "execution_count": 92,
   "metadata": {},
   "outputs": [],
   "source": [
    "# Save file - test\n",
    "with open(\"example.json\", \"w\") as output:\n",
    "  json.dump(retrieved_data[:10], output, indent=4)"
   ]
  },
  {
   "cell_type": "code",
   "execution_count": 93,
   "metadata": {},
   "outputs": [],
   "source": [
    "# Save the whole data\n",
    "import os\n",
    "\n",
    "# output_questions_file_name = \"law.stackexchange.json\"\n",
    "output_questions_file_name = \"law.stackexchange.json\"\n",
    "directory = \"scrapping_data/\"\n",
    "full_output_path = os.path.join(directory, output_questions_file_name)\n",
    "\n",
    "with open(full_output_path, \"w+\") as output:\n",
    "  json.dump(retrieved_data, output, indent=4)"
   ]
  },
  {
   "cell_type": "markdown",
   "metadata": {},
   "source": [
    "## Get answers"
   ]
  },
  {
   "cell_type": "code",
   "execution_count": 94,
   "metadata": {},
   "outputs": [
    {
     "name": "stdout",
     "output_type": "stream",
     "text": [
      "Questions total: 30000\n",
      "Questions with answers: 26826\n"
     ]
    }
   ],
   "source": [
    "import os\n",
    "\n",
    "# file_path = \"/content/drive/MyDrive/scrapping_data/StackExchange/Law/\"\n",
    "# file_name = \"law.stackexchange.json\"\n",
    "\n",
    "file_path = \"scrapping_data/\"\n",
    "file_name = \"law.stackexchange.json\"\n",
    "\n",
    "data = json.load(open(os.path.join(file_path, file_name)))\n",
    "questions = [question for question in data if question[\"is_answered\"]]\n",
    "\n",
    "print(\"Questions total:\", len(data))\n",
    "print(\"Questions with answers:\", len(questions))"
   ]
  },
  {
   "cell_type": "code",
   "execution_count": 96,
   "metadata": {},
   "outputs": [
    {
     "data": {
      "application/vnd.jupyter.widget-view+json": {
       "model_id": "e94bfa05f0774bc3aac715bdace00188",
       "version_major": 2,
       "version_minor": 0
      },
      "text/plain": [
       "  0%|          | 0/26826 [00:00<?, ?it/s]"
      ]
     },
     "metadata": {},
     "output_type": "display_data"
    },
    {
     "ename": "RetryError",
     "evalue": "HTTPSConnectionPool(host='api.stackexchange.com', port=443): Max retries exceeded with url: /2.3/questions/92991/answers?client_secret=NCec61zg6XY5DJ4v8UIoRw%28%28&key=rl_2doaMUY8b45faCZ9XLbbieHBX&site=law&filter=withbody&order=desc&sort=votes&pagesize=100 (Caused by ResponseError('too many 400 error responses'))",
     "output_type": "error",
     "traceback": [
      "\u001b[1;31m---------------------------------------------------------------------------\u001b[0m",
      "\u001b[1;31mResponseError\u001b[0m                             Traceback (most recent call last)",
      "\u001b[1;31mResponseError\u001b[0m: too many 400 error responses",
      "\nThe above exception was the direct cause of the following exception:\n",
      "\u001b[1;31mMaxRetryError\u001b[0m                             Traceback (most recent call last)",
      "File \u001b[1;32mc:\\Users\\krupc\\Downloads\\Projects\\mlops\\ai-juris\\.venv\\Lib\\site-packages\\requests\\adapters.py:667\u001b[0m, in \u001b[0;36mHTTPAdapter.send\u001b[1;34m(self, request, stream, timeout, verify, cert, proxies)\u001b[0m\n\u001b[0;32m    666\u001b[0m \u001b[38;5;28;01mtry\u001b[39;00m:\n\u001b[1;32m--> 667\u001b[0m     resp \u001b[38;5;241m=\u001b[39m \u001b[43mconn\u001b[49m\u001b[38;5;241;43m.\u001b[39;49m\u001b[43murlopen\u001b[49m\u001b[43m(\u001b[49m\n\u001b[0;32m    668\u001b[0m \u001b[43m        \u001b[49m\u001b[43mmethod\u001b[49m\u001b[38;5;241;43m=\u001b[39;49m\u001b[43mrequest\u001b[49m\u001b[38;5;241;43m.\u001b[39;49m\u001b[43mmethod\u001b[49m\u001b[43m,\u001b[49m\n\u001b[0;32m    669\u001b[0m \u001b[43m        \u001b[49m\u001b[43murl\u001b[49m\u001b[38;5;241;43m=\u001b[39;49m\u001b[43murl\u001b[49m\u001b[43m,\u001b[49m\n\u001b[0;32m    670\u001b[0m \u001b[43m        \u001b[49m\u001b[43mbody\u001b[49m\u001b[38;5;241;43m=\u001b[39;49m\u001b[43mrequest\u001b[49m\u001b[38;5;241;43m.\u001b[39;49m\u001b[43mbody\u001b[49m\u001b[43m,\u001b[49m\n\u001b[0;32m    671\u001b[0m \u001b[43m        \u001b[49m\u001b[43mheaders\u001b[49m\u001b[38;5;241;43m=\u001b[39;49m\u001b[43mrequest\u001b[49m\u001b[38;5;241;43m.\u001b[39;49m\u001b[43mheaders\u001b[49m\u001b[43m,\u001b[49m\n\u001b[0;32m    672\u001b[0m \u001b[43m        \u001b[49m\u001b[43mredirect\u001b[49m\u001b[38;5;241;43m=\u001b[39;49m\u001b[38;5;28;43;01mFalse\u001b[39;49;00m\u001b[43m,\u001b[49m\n\u001b[0;32m    673\u001b[0m \u001b[43m        \u001b[49m\u001b[43massert_same_host\u001b[49m\u001b[38;5;241;43m=\u001b[39;49m\u001b[38;5;28;43;01mFalse\u001b[39;49;00m\u001b[43m,\u001b[49m\n\u001b[0;32m    674\u001b[0m \u001b[43m        \u001b[49m\u001b[43mpreload_content\u001b[49m\u001b[38;5;241;43m=\u001b[39;49m\u001b[38;5;28;43;01mFalse\u001b[39;49;00m\u001b[43m,\u001b[49m\n\u001b[0;32m    675\u001b[0m \u001b[43m        \u001b[49m\u001b[43mdecode_content\u001b[49m\u001b[38;5;241;43m=\u001b[39;49m\u001b[38;5;28;43;01mFalse\u001b[39;49;00m\u001b[43m,\u001b[49m\n\u001b[0;32m    676\u001b[0m \u001b[43m        \u001b[49m\u001b[43mretries\u001b[49m\u001b[38;5;241;43m=\u001b[39;49m\u001b[38;5;28;43mself\u001b[39;49m\u001b[38;5;241;43m.\u001b[39;49m\u001b[43mmax_retries\u001b[49m\u001b[43m,\u001b[49m\n\u001b[0;32m    677\u001b[0m \u001b[43m        \u001b[49m\u001b[43mtimeout\u001b[49m\u001b[38;5;241;43m=\u001b[39;49m\u001b[43mtimeout\u001b[49m\u001b[43m,\u001b[49m\n\u001b[0;32m    678\u001b[0m \u001b[43m        \u001b[49m\u001b[43mchunked\u001b[49m\u001b[38;5;241;43m=\u001b[39;49m\u001b[43mchunked\u001b[49m\u001b[43m,\u001b[49m\n\u001b[0;32m    679\u001b[0m \u001b[43m    \u001b[49m\u001b[43m)\u001b[49m\n\u001b[0;32m    681\u001b[0m \u001b[38;5;28;01mexcept\u001b[39;00m (ProtocolError, \u001b[38;5;167;01mOSError\u001b[39;00m) \u001b[38;5;28;01mas\u001b[39;00m err:\n",
      "File \u001b[1;32mc:\\Users\\krupc\\Downloads\\Projects\\mlops\\ai-juris\\.venv\\Lib\\site-packages\\urllib3\\connectionpool.py:942\u001b[0m, in \u001b[0;36mHTTPConnectionPool.urlopen\u001b[1;34m(self, method, url, body, headers, retries, redirect, assert_same_host, timeout, pool_timeout, release_conn, chunked, body_pos, preload_content, decode_content, **response_kw)\u001b[0m\n\u001b[0;32m    941\u001b[0m     log\u001b[38;5;241m.\u001b[39mdebug(\u001b[38;5;124m\"\u001b[39m\u001b[38;5;124mRetry: \u001b[39m\u001b[38;5;132;01m%s\u001b[39;00m\u001b[38;5;124m\"\u001b[39m, url)\n\u001b[1;32m--> 942\u001b[0m     \u001b[38;5;28;01mreturn\u001b[39;00m \u001b[38;5;28;43mself\u001b[39;49m\u001b[38;5;241;43m.\u001b[39;49m\u001b[43murlopen\u001b[49m\u001b[43m(\u001b[49m\n\u001b[0;32m    943\u001b[0m \u001b[43m        \u001b[49m\u001b[43mmethod\u001b[49m\u001b[43m,\u001b[49m\n\u001b[0;32m    944\u001b[0m \u001b[43m        \u001b[49m\u001b[43murl\u001b[49m\u001b[43m,\u001b[49m\n\u001b[0;32m    945\u001b[0m \u001b[43m        \u001b[49m\u001b[43mbody\u001b[49m\u001b[43m,\u001b[49m\n\u001b[0;32m    946\u001b[0m \u001b[43m        \u001b[49m\u001b[43mheaders\u001b[49m\u001b[43m,\u001b[49m\n\u001b[0;32m    947\u001b[0m \u001b[43m        \u001b[49m\u001b[43mretries\u001b[49m\u001b[38;5;241;43m=\u001b[39;49m\u001b[43mretries\u001b[49m\u001b[43m,\u001b[49m\n\u001b[0;32m    948\u001b[0m \u001b[43m        \u001b[49m\u001b[43mredirect\u001b[49m\u001b[38;5;241;43m=\u001b[39;49m\u001b[43mredirect\u001b[49m\u001b[43m,\u001b[49m\n\u001b[0;32m    949\u001b[0m \u001b[43m        \u001b[49m\u001b[43massert_same_host\u001b[49m\u001b[38;5;241;43m=\u001b[39;49m\u001b[43massert_same_host\u001b[49m\u001b[43m,\u001b[49m\n\u001b[0;32m    950\u001b[0m \u001b[43m        \u001b[49m\u001b[43mtimeout\u001b[49m\u001b[38;5;241;43m=\u001b[39;49m\u001b[43mtimeout\u001b[49m\u001b[43m,\u001b[49m\n\u001b[0;32m    951\u001b[0m \u001b[43m        \u001b[49m\u001b[43mpool_timeout\u001b[49m\u001b[38;5;241;43m=\u001b[39;49m\u001b[43mpool_timeout\u001b[49m\u001b[43m,\u001b[49m\n\u001b[0;32m    952\u001b[0m \u001b[43m        \u001b[49m\u001b[43mrelease_conn\u001b[49m\u001b[38;5;241;43m=\u001b[39;49m\u001b[43mrelease_conn\u001b[49m\u001b[43m,\u001b[49m\n\u001b[0;32m    953\u001b[0m \u001b[43m        \u001b[49m\u001b[43mchunked\u001b[49m\u001b[38;5;241;43m=\u001b[39;49m\u001b[43mchunked\u001b[49m\u001b[43m,\u001b[49m\n\u001b[0;32m    954\u001b[0m \u001b[43m        \u001b[49m\u001b[43mbody_pos\u001b[49m\u001b[38;5;241;43m=\u001b[39;49m\u001b[43mbody_pos\u001b[49m\u001b[43m,\u001b[49m\n\u001b[0;32m    955\u001b[0m \u001b[43m        \u001b[49m\u001b[43mpreload_content\u001b[49m\u001b[38;5;241;43m=\u001b[39;49m\u001b[43mpreload_content\u001b[49m\u001b[43m,\u001b[49m\n\u001b[0;32m    956\u001b[0m \u001b[43m        \u001b[49m\u001b[43mdecode_content\u001b[49m\u001b[38;5;241;43m=\u001b[39;49m\u001b[43mdecode_content\u001b[49m\u001b[43m,\u001b[49m\n\u001b[0;32m    957\u001b[0m \u001b[43m        \u001b[49m\u001b[38;5;241;43m*\u001b[39;49m\u001b[38;5;241;43m*\u001b[39;49m\u001b[43mresponse_kw\u001b[49m\u001b[43m,\u001b[49m\n\u001b[0;32m    958\u001b[0m \u001b[43m    \u001b[49m\u001b[43m)\u001b[49m\n\u001b[0;32m    960\u001b[0m \u001b[38;5;28;01mreturn\u001b[39;00m response\n",
      "File \u001b[1;32mc:\\Users\\krupc\\Downloads\\Projects\\mlops\\ai-juris\\.venv\\Lib\\site-packages\\urllib3\\connectionpool.py:942\u001b[0m, in \u001b[0;36mHTTPConnectionPool.urlopen\u001b[1;34m(self, method, url, body, headers, retries, redirect, assert_same_host, timeout, pool_timeout, release_conn, chunked, body_pos, preload_content, decode_content, **response_kw)\u001b[0m\n\u001b[0;32m    941\u001b[0m     log\u001b[38;5;241m.\u001b[39mdebug(\u001b[38;5;124m\"\u001b[39m\u001b[38;5;124mRetry: \u001b[39m\u001b[38;5;132;01m%s\u001b[39;00m\u001b[38;5;124m\"\u001b[39m, url)\n\u001b[1;32m--> 942\u001b[0m     \u001b[38;5;28;01mreturn\u001b[39;00m \u001b[38;5;28;43mself\u001b[39;49m\u001b[38;5;241;43m.\u001b[39;49m\u001b[43murlopen\u001b[49m\u001b[43m(\u001b[49m\n\u001b[0;32m    943\u001b[0m \u001b[43m        \u001b[49m\u001b[43mmethod\u001b[49m\u001b[43m,\u001b[49m\n\u001b[0;32m    944\u001b[0m \u001b[43m        \u001b[49m\u001b[43murl\u001b[49m\u001b[43m,\u001b[49m\n\u001b[0;32m    945\u001b[0m \u001b[43m        \u001b[49m\u001b[43mbody\u001b[49m\u001b[43m,\u001b[49m\n\u001b[0;32m    946\u001b[0m \u001b[43m        \u001b[49m\u001b[43mheaders\u001b[49m\u001b[43m,\u001b[49m\n\u001b[0;32m    947\u001b[0m \u001b[43m        \u001b[49m\u001b[43mretries\u001b[49m\u001b[38;5;241;43m=\u001b[39;49m\u001b[43mretries\u001b[49m\u001b[43m,\u001b[49m\n\u001b[0;32m    948\u001b[0m \u001b[43m        \u001b[49m\u001b[43mredirect\u001b[49m\u001b[38;5;241;43m=\u001b[39;49m\u001b[43mredirect\u001b[49m\u001b[43m,\u001b[49m\n\u001b[0;32m    949\u001b[0m \u001b[43m        \u001b[49m\u001b[43massert_same_host\u001b[49m\u001b[38;5;241;43m=\u001b[39;49m\u001b[43massert_same_host\u001b[49m\u001b[43m,\u001b[49m\n\u001b[0;32m    950\u001b[0m \u001b[43m        \u001b[49m\u001b[43mtimeout\u001b[49m\u001b[38;5;241;43m=\u001b[39;49m\u001b[43mtimeout\u001b[49m\u001b[43m,\u001b[49m\n\u001b[0;32m    951\u001b[0m \u001b[43m        \u001b[49m\u001b[43mpool_timeout\u001b[49m\u001b[38;5;241;43m=\u001b[39;49m\u001b[43mpool_timeout\u001b[49m\u001b[43m,\u001b[49m\n\u001b[0;32m    952\u001b[0m \u001b[43m        \u001b[49m\u001b[43mrelease_conn\u001b[49m\u001b[38;5;241;43m=\u001b[39;49m\u001b[43mrelease_conn\u001b[49m\u001b[43m,\u001b[49m\n\u001b[0;32m    953\u001b[0m \u001b[43m        \u001b[49m\u001b[43mchunked\u001b[49m\u001b[38;5;241;43m=\u001b[39;49m\u001b[43mchunked\u001b[49m\u001b[43m,\u001b[49m\n\u001b[0;32m    954\u001b[0m \u001b[43m        \u001b[49m\u001b[43mbody_pos\u001b[49m\u001b[38;5;241;43m=\u001b[39;49m\u001b[43mbody_pos\u001b[49m\u001b[43m,\u001b[49m\n\u001b[0;32m    955\u001b[0m \u001b[43m        \u001b[49m\u001b[43mpreload_content\u001b[49m\u001b[38;5;241;43m=\u001b[39;49m\u001b[43mpreload_content\u001b[49m\u001b[43m,\u001b[49m\n\u001b[0;32m    956\u001b[0m \u001b[43m        \u001b[49m\u001b[43mdecode_content\u001b[49m\u001b[38;5;241;43m=\u001b[39;49m\u001b[43mdecode_content\u001b[49m\u001b[43m,\u001b[49m\n\u001b[0;32m    957\u001b[0m \u001b[43m        \u001b[49m\u001b[38;5;241;43m*\u001b[39;49m\u001b[38;5;241;43m*\u001b[39;49m\u001b[43mresponse_kw\u001b[49m\u001b[43m,\u001b[49m\n\u001b[0;32m    958\u001b[0m \u001b[43m    \u001b[49m\u001b[43m)\u001b[49m\n\u001b[0;32m    960\u001b[0m \u001b[38;5;28;01mreturn\u001b[39;00m response\n",
      "    \u001b[1;31m[... skipping similar frames: HTTPConnectionPool.urlopen at line 942 (2 times)]\u001b[0m\n",
      "File \u001b[1;32mc:\\Users\\krupc\\Downloads\\Projects\\mlops\\ai-juris\\.venv\\Lib\\site-packages\\urllib3\\connectionpool.py:942\u001b[0m, in \u001b[0;36mHTTPConnectionPool.urlopen\u001b[1;34m(self, method, url, body, headers, retries, redirect, assert_same_host, timeout, pool_timeout, release_conn, chunked, body_pos, preload_content, decode_content, **response_kw)\u001b[0m\n\u001b[0;32m    941\u001b[0m     log\u001b[38;5;241m.\u001b[39mdebug(\u001b[38;5;124m\"\u001b[39m\u001b[38;5;124mRetry: \u001b[39m\u001b[38;5;132;01m%s\u001b[39;00m\u001b[38;5;124m\"\u001b[39m, url)\n\u001b[1;32m--> 942\u001b[0m     \u001b[38;5;28;01mreturn\u001b[39;00m \u001b[38;5;28;43mself\u001b[39;49m\u001b[38;5;241;43m.\u001b[39;49m\u001b[43murlopen\u001b[49m\u001b[43m(\u001b[49m\n\u001b[0;32m    943\u001b[0m \u001b[43m        \u001b[49m\u001b[43mmethod\u001b[49m\u001b[43m,\u001b[49m\n\u001b[0;32m    944\u001b[0m \u001b[43m        \u001b[49m\u001b[43murl\u001b[49m\u001b[43m,\u001b[49m\n\u001b[0;32m    945\u001b[0m \u001b[43m        \u001b[49m\u001b[43mbody\u001b[49m\u001b[43m,\u001b[49m\n\u001b[0;32m    946\u001b[0m \u001b[43m        \u001b[49m\u001b[43mheaders\u001b[49m\u001b[43m,\u001b[49m\n\u001b[0;32m    947\u001b[0m \u001b[43m        \u001b[49m\u001b[43mretries\u001b[49m\u001b[38;5;241;43m=\u001b[39;49m\u001b[43mretries\u001b[49m\u001b[43m,\u001b[49m\n\u001b[0;32m    948\u001b[0m \u001b[43m        \u001b[49m\u001b[43mredirect\u001b[49m\u001b[38;5;241;43m=\u001b[39;49m\u001b[43mredirect\u001b[49m\u001b[43m,\u001b[49m\n\u001b[0;32m    949\u001b[0m \u001b[43m        \u001b[49m\u001b[43massert_same_host\u001b[49m\u001b[38;5;241;43m=\u001b[39;49m\u001b[43massert_same_host\u001b[49m\u001b[43m,\u001b[49m\n\u001b[0;32m    950\u001b[0m \u001b[43m        \u001b[49m\u001b[43mtimeout\u001b[49m\u001b[38;5;241;43m=\u001b[39;49m\u001b[43mtimeout\u001b[49m\u001b[43m,\u001b[49m\n\u001b[0;32m    951\u001b[0m \u001b[43m        \u001b[49m\u001b[43mpool_timeout\u001b[49m\u001b[38;5;241;43m=\u001b[39;49m\u001b[43mpool_timeout\u001b[49m\u001b[43m,\u001b[49m\n\u001b[0;32m    952\u001b[0m \u001b[43m        \u001b[49m\u001b[43mrelease_conn\u001b[49m\u001b[38;5;241;43m=\u001b[39;49m\u001b[43mrelease_conn\u001b[49m\u001b[43m,\u001b[49m\n\u001b[0;32m    953\u001b[0m \u001b[43m        \u001b[49m\u001b[43mchunked\u001b[49m\u001b[38;5;241;43m=\u001b[39;49m\u001b[43mchunked\u001b[49m\u001b[43m,\u001b[49m\n\u001b[0;32m    954\u001b[0m \u001b[43m        \u001b[49m\u001b[43mbody_pos\u001b[49m\u001b[38;5;241;43m=\u001b[39;49m\u001b[43mbody_pos\u001b[49m\u001b[43m,\u001b[49m\n\u001b[0;32m    955\u001b[0m \u001b[43m        \u001b[49m\u001b[43mpreload_content\u001b[49m\u001b[38;5;241;43m=\u001b[39;49m\u001b[43mpreload_content\u001b[49m\u001b[43m,\u001b[49m\n\u001b[0;32m    956\u001b[0m \u001b[43m        \u001b[49m\u001b[43mdecode_content\u001b[49m\u001b[38;5;241;43m=\u001b[39;49m\u001b[43mdecode_content\u001b[49m\u001b[43m,\u001b[49m\n\u001b[0;32m    957\u001b[0m \u001b[43m        \u001b[49m\u001b[38;5;241;43m*\u001b[39;49m\u001b[38;5;241;43m*\u001b[39;49m\u001b[43mresponse_kw\u001b[49m\u001b[43m,\u001b[49m\n\u001b[0;32m    958\u001b[0m \u001b[43m    \u001b[49m\u001b[43m)\u001b[49m\n\u001b[0;32m    960\u001b[0m \u001b[38;5;28;01mreturn\u001b[39;00m response\n",
      "File \u001b[1;32mc:\\Users\\krupc\\Downloads\\Projects\\mlops\\ai-juris\\.venv\\Lib\\site-packages\\urllib3\\connectionpool.py:932\u001b[0m, in \u001b[0;36mHTTPConnectionPool.urlopen\u001b[1;34m(self, method, url, body, headers, retries, redirect, assert_same_host, timeout, pool_timeout, release_conn, chunked, body_pos, preload_content, decode_content, **response_kw)\u001b[0m\n\u001b[0;32m    931\u001b[0m \u001b[38;5;28;01mtry\u001b[39;00m:\n\u001b[1;32m--> 932\u001b[0m     retries \u001b[38;5;241m=\u001b[39m \u001b[43mretries\u001b[49m\u001b[38;5;241;43m.\u001b[39;49m\u001b[43mincrement\u001b[49m\u001b[43m(\u001b[49m\u001b[43mmethod\u001b[49m\u001b[43m,\u001b[49m\u001b[43m \u001b[49m\u001b[43murl\u001b[49m\u001b[43m,\u001b[49m\u001b[43m \u001b[49m\u001b[43mresponse\u001b[49m\u001b[38;5;241;43m=\u001b[39;49m\u001b[43mresponse\u001b[49m\u001b[43m,\u001b[49m\u001b[43m \u001b[49m\u001b[43m_pool\u001b[49m\u001b[38;5;241;43m=\u001b[39;49m\u001b[38;5;28;43mself\u001b[39;49m\u001b[43m)\u001b[49m\n\u001b[0;32m    933\u001b[0m \u001b[38;5;28;01mexcept\u001b[39;00m MaxRetryError:\n",
      "File \u001b[1;32mc:\\Users\\krupc\\Downloads\\Projects\\mlops\\ai-juris\\.venv\\Lib\\site-packages\\urllib3\\util\\retry.py:519\u001b[0m, in \u001b[0;36mRetry.increment\u001b[1;34m(self, method, url, response, error, _pool, _stacktrace)\u001b[0m\n\u001b[0;32m    518\u001b[0m     reason \u001b[38;5;241m=\u001b[39m error \u001b[38;5;129;01mor\u001b[39;00m ResponseError(cause)\n\u001b[1;32m--> 519\u001b[0m     \u001b[38;5;28;01mraise\u001b[39;00m MaxRetryError(_pool, url, reason) \u001b[38;5;28;01mfrom\u001b[39;00m \u001b[38;5;21;01mreason\u001b[39;00m  \u001b[38;5;66;03m# type: ignore[arg-type]\u001b[39;00m\n\u001b[0;32m    521\u001b[0m log\u001b[38;5;241m.\u001b[39mdebug(\u001b[38;5;124m\"\u001b[39m\u001b[38;5;124mIncremented Retry for (url=\u001b[39m\u001b[38;5;124m'\u001b[39m\u001b[38;5;132;01m%s\u001b[39;00m\u001b[38;5;124m'\u001b[39m\u001b[38;5;124m): \u001b[39m\u001b[38;5;132;01m%r\u001b[39;00m\u001b[38;5;124m\"\u001b[39m, url, new_retry)\n",
      "\u001b[1;31mMaxRetryError\u001b[0m: HTTPSConnectionPool(host='api.stackexchange.com', port=443): Max retries exceeded with url: /2.3/questions/92991/answers?client_secret=NCec61zg6XY5DJ4v8UIoRw%28%28&key=rl_2doaMUY8b45faCZ9XLbbieHBX&site=law&filter=withbody&order=desc&sort=votes&pagesize=100 (Caused by ResponseError('too many 400 error responses'))",
      "\nDuring handling of the above exception, another exception occurred:\n",
      "\u001b[1;31mRetryError\u001b[0m                                Traceback (most recent call last)",
      "Cell \u001b[1;32mIn[96], line 35\u001b[0m\n\u001b[0;32m     32\u001b[0m question[\u001b[38;5;124m\"\u001b[39m\u001b[38;5;124mlink\u001b[39m\u001b[38;5;124m\"\u001b[39m] \u001b[38;5;241m=\u001b[39m question_item[\u001b[38;5;124m\"\u001b[39m\u001b[38;5;124mlink\u001b[39m\u001b[38;5;124m\"\u001b[39m]\n\u001b[0;32m     33\u001b[0m question[\u001b[38;5;124m\"\u001b[39m\u001b[38;5;124manswers\u001b[39m\u001b[38;5;124m\"\u001b[39m] \u001b[38;5;241m=\u001b[39m []\n\u001b[1;32m---> 35\u001b[0m response \u001b[38;5;241m=\u001b[39m \u001b[43msession\u001b[49m\u001b[38;5;241;43m.\u001b[39;49m\u001b[43mget\u001b[49m\u001b[43m(\u001b[49m\u001b[43murl\u001b[49m\u001b[43m[\u001b[49m\u001b[38;5;124;43m\"\u001b[39;49m\u001b[38;5;124;43murl\u001b[39;49m\u001b[38;5;124;43m\"\u001b[39;49m\u001b[43m]\u001b[49m\u001b[38;5;241;43m.\u001b[39;49m\u001b[43mformat\u001b[49m\u001b[43m(\u001b[49m\u001b[43midx\u001b[49m\u001b[38;5;241;43m=\u001b[39;49m\u001b[43mquestion_id\u001b[49m\u001b[43m)\u001b[49m\u001b[43m,\u001b[49m\u001b[43m \u001b[49m\u001b[43mparams\u001b[49m\u001b[38;5;241;43m=\u001b[39;49m\u001b[43mparams\u001b[49m\u001b[43m)\u001b[49m\n\u001b[0;32m     37\u001b[0m \u001b[38;5;28;01mif\u001b[39;00m response\u001b[38;5;241m.\u001b[39mstatus_code \u001b[38;5;241m!=\u001b[39m \u001b[38;5;241m200\u001b[39m:\n\u001b[0;32m     38\u001b[0m   \u001b[38;5;28mprint\u001b[39m(\u001b[38;5;124m\"\u001b[39m\u001b[38;5;124mError:\u001b[39m\u001b[38;5;124m\"\u001b[39m, response\u001b[38;5;241m.\u001b[39mstatus_code)\n",
      "File \u001b[1;32mc:\\Users\\krupc\\Downloads\\Projects\\mlops\\ai-juris\\.venv\\Lib\\site-packages\\requests\\sessions.py:602\u001b[0m, in \u001b[0;36mSession.get\u001b[1;34m(self, url, **kwargs)\u001b[0m\n\u001b[0;32m    594\u001b[0m \u001b[38;5;250m\u001b[39m\u001b[38;5;124mr\u001b[39m\u001b[38;5;124;03m\"\"\"Sends a GET request. Returns :class:`Response` object.\u001b[39;00m\n\u001b[0;32m    595\u001b[0m \n\u001b[0;32m    596\u001b[0m \u001b[38;5;124;03m:param url: URL for the new :class:`Request` object.\u001b[39;00m\n\u001b[0;32m    597\u001b[0m \u001b[38;5;124;03m:param \\*\\*kwargs: Optional arguments that ``request`` takes.\u001b[39;00m\n\u001b[0;32m    598\u001b[0m \u001b[38;5;124;03m:rtype: requests.Response\u001b[39;00m\n\u001b[0;32m    599\u001b[0m \u001b[38;5;124;03m\"\"\"\u001b[39;00m\n\u001b[0;32m    601\u001b[0m kwargs\u001b[38;5;241m.\u001b[39msetdefault(\u001b[38;5;124m\"\u001b[39m\u001b[38;5;124mallow_redirects\u001b[39m\u001b[38;5;124m\"\u001b[39m, \u001b[38;5;28;01mTrue\u001b[39;00m)\n\u001b[1;32m--> 602\u001b[0m \u001b[38;5;28;01mreturn\u001b[39;00m \u001b[38;5;28;43mself\u001b[39;49m\u001b[38;5;241;43m.\u001b[39;49m\u001b[43mrequest\u001b[49m\u001b[43m(\u001b[49m\u001b[38;5;124;43m\"\u001b[39;49m\u001b[38;5;124;43mGET\u001b[39;49m\u001b[38;5;124;43m\"\u001b[39;49m\u001b[43m,\u001b[49m\u001b[43m \u001b[49m\u001b[43murl\u001b[49m\u001b[43m,\u001b[49m\u001b[43m \u001b[49m\u001b[38;5;241;43m*\u001b[39;49m\u001b[38;5;241;43m*\u001b[39;49m\u001b[43mkwargs\u001b[49m\u001b[43m)\u001b[49m\n",
      "File \u001b[1;32mc:\\Users\\krupc\\Downloads\\Projects\\mlops\\ai-juris\\.venv\\Lib\\site-packages\\requests\\sessions.py:589\u001b[0m, in \u001b[0;36mSession.request\u001b[1;34m(self, method, url, params, data, headers, cookies, files, auth, timeout, allow_redirects, proxies, hooks, stream, verify, cert, json)\u001b[0m\n\u001b[0;32m    584\u001b[0m send_kwargs \u001b[38;5;241m=\u001b[39m {\n\u001b[0;32m    585\u001b[0m     \u001b[38;5;124m\"\u001b[39m\u001b[38;5;124mtimeout\u001b[39m\u001b[38;5;124m\"\u001b[39m: timeout,\n\u001b[0;32m    586\u001b[0m     \u001b[38;5;124m\"\u001b[39m\u001b[38;5;124mallow_redirects\u001b[39m\u001b[38;5;124m\"\u001b[39m: allow_redirects,\n\u001b[0;32m    587\u001b[0m }\n\u001b[0;32m    588\u001b[0m send_kwargs\u001b[38;5;241m.\u001b[39mupdate(settings)\n\u001b[1;32m--> 589\u001b[0m resp \u001b[38;5;241m=\u001b[39m \u001b[38;5;28;43mself\u001b[39;49m\u001b[38;5;241;43m.\u001b[39;49m\u001b[43msend\u001b[49m\u001b[43m(\u001b[49m\u001b[43mprep\u001b[49m\u001b[43m,\u001b[49m\u001b[43m \u001b[49m\u001b[38;5;241;43m*\u001b[39;49m\u001b[38;5;241;43m*\u001b[39;49m\u001b[43msend_kwargs\u001b[49m\u001b[43m)\u001b[49m\n\u001b[0;32m    591\u001b[0m \u001b[38;5;28;01mreturn\u001b[39;00m resp\n",
      "File \u001b[1;32mc:\\Users\\krupc\\Downloads\\Projects\\mlops\\ai-juris\\.venv\\Lib\\site-packages\\requests\\sessions.py:703\u001b[0m, in \u001b[0;36mSession.send\u001b[1;34m(self, request, **kwargs)\u001b[0m\n\u001b[0;32m    700\u001b[0m start \u001b[38;5;241m=\u001b[39m preferred_clock()\n\u001b[0;32m    702\u001b[0m \u001b[38;5;66;03m# Send the request\u001b[39;00m\n\u001b[1;32m--> 703\u001b[0m r \u001b[38;5;241m=\u001b[39m \u001b[43madapter\u001b[49m\u001b[38;5;241;43m.\u001b[39;49m\u001b[43msend\u001b[49m\u001b[43m(\u001b[49m\u001b[43mrequest\u001b[49m\u001b[43m,\u001b[49m\u001b[43m \u001b[49m\u001b[38;5;241;43m*\u001b[39;49m\u001b[38;5;241;43m*\u001b[39;49m\u001b[43mkwargs\u001b[49m\u001b[43m)\u001b[49m\n\u001b[0;32m    705\u001b[0m \u001b[38;5;66;03m# Total elapsed time of the request (approximately)\u001b[39;00m\n\u001b[0;32m    706\u001b[0m elapsed \u001b[38;5;241m=\u001b[39m preferred_clock() \u001b[38;5;241m-\u001b[39m start\n",
      "File \u001b[1;32mc:\\Users\\krupc\\Downloads\\Projects\\mlops\\ai-juris\\.venv\\Lib\\site-packages\\requests\\adapters.py:691\u001b[0m, in \u001b[0;36mHTTPAdapter.send\u001b[1;34m(self, request, stream, timeout, verify, cert, proxies)\u001b[0m\n\u001b[0;32m    688\u001b[0m         \u001b[38;5;28;01mraise\u001b[39;00m ConnectTimeout(e, request\u001b[38;5;241m=\u001b[39mrequest)\n\u001b[0;32m    690\u001b[0m \u001b[38;5;28;01mif\u001b[39;00m \u001b[38;5;28misinstance\u001b[39m(e\u001b[38;5;241m.\u001b[39mreason, ResponseError):\n\u001b[1;32m--> 691\u001b[0m     \u001b[38;5;28;01mraise\u001b[39;00m RetryError(e, request\u001b[38;5;241m=\u001b[39mrequest)\n\u001b[0;32m    693\u001b[0m \u001b[38;5;28;01mif\u001b[39;00m \u001b[38;5;28misinstance\u001b[39m(e\u001b[38;5;241m.\u001b[39mreason, _ProxyError):\n\u001b[0;32m    694\u001b[0m     \u001b[38;5;28;01mraise\u001b[39;00m ProxyError(e, request\u001b[38;5;241m=\u001b[39mrequest)\n",
      "\u001b[1;31mRetryError\u001b[0m: HTTPSConnectionPool(host='api.stackexchange.com', port=443): Max retries exceeded with url: /2.3/questions/92991/answers?client_secret=NCec61zg6XY5DJ4v8UIoRw%28%28&key=rl_2doaMUY8b45faCZ9XLbbieHBX&site=law&filter=withbody&order=desc&sort=votes&pagesize=100 (Caused by ResponseError('too many 400 error responses'))"
     ]
    }
   ],
   "source": [
    "url = {\"url\":\"https://api.stackexchange.com/2.3/questions/{idx}/answers\"}\n",
    "params = {\"client_secret\": secret_key['secret '],\n",
    "          \"key\": secret_key['key '],\n",
    "          \"site\": site,\n",
    "          \"filter\": \"withbody\",\n",
    "          \"order\":\"desc\",\n",
    "          \"sort\":\"votes\",\n",
    "          \"pagesize\":100}\n",
    "\n",
    "retries = Retry(total=5,\n",
    "                backoff_factor=0.99,\n",
    "                status_forcelist=[400, 429, 500, 502, 503, 504])\n",
    "\n",
    "adapter = HTTPAdapter(max_retries=retries)\n",
    "session = requests.Session()\n",
    "\n",
    "# Use the adapter for all requests to endpoints that start with this URL\n",
    "session.mount('https://api.stackexchange.com/', adapter)\n",
    "\n",
    "questions_data = []\n",
    "\n",
    "for question_item in tqdm(questions):\n",
    "  question_id = question_item[\"question_id\"]\n",
    "\n",
    "  question = {}\n",
    "  question[\"question_id\"] = question_item[\"question_id\"]\n",
    "  question[\"tags\"] = question_item[\"tags\"]\n",
    "  question[\"score\"] = question_item[\"score\"]\n",
    "  question[\"license\"] = question_item.get(\"content_license\", \"\")\n",
    "  question[\"title\"] = question_item[\"title\"]\n",
    "  question[\"body\"] = question_item[\"body\"]\n",
    "  question[\"link\"] = question_item[\"link\"]\n",
    "  question[\"answers\"] = []\n",
    "\n",
    "  response = session.get(url[\"url\"].format(idx=question_id), params=params)\n",
    "\n",
    "  if response.status_code != 200:\n",
    "    print(\"Error:\", response.status_code)\n",
    "    break\n",
    "  else:\n",
    "    current_page = response.json()\n",
    "    for answer_item in current_page['items']:\n",
    "      if answer_item[\"score\"] >= 0:\n",
    "        answer = {}\n",
    "        answer[\"answer_id\"] = answer_item[\"answer_id\"]\n",
    "        answer[\"score\"] = answer_item[\"score\"]\n",
    "        answer[\"body\"] = answer_item[\"body\"]\n",
    "\n",
    "        question[\"answers\"].append(answer)\n",
    "\n",
    "  questions_data.append(question)\n",
    "  sleep(0.3)"
   ]
  },
  {
   "cell_type": "code",
   "execution_count": 97,
   "metadata": {},
   "outputs": [
    {
     "name": "stdout",
     "output_type": "stream",
     "text": [
      "8680\n",
      "{\n",
      "  \"question_id\": 92959,\n",
      "  \"tags\": [\n",
      "    \"trademark\",\n",
      "    \"germany\"\n",
      "  ],\n",
      "  \"score\": 3,\n",
      "  \"license\": \"CC BY-SA 4.0\",\n",
      "  \"title\": \"Does the renaming of the German &#39;ebay Kleinanzeigen&#39; to &#39;Kleinanzeigen&#39; mean they lose any trademark to their name?\",\n",
      "  \"body\": \"<p>So ebay Kleinanzeigen is a company that owns a website for classified ads. People can post classified ads there and search the website to buy things from classified ads. I suppose ebay has the exact same business model in various other countries. This is the German branch. Now the German word 'Kleinanzeige' means exactly classified ad.</p>\\n<p>Recently they renamed both their website and the company itself to just 'Kleinanzeigen'. To me this looks like a classic example of a trademark for common words as in <a href=\\\"https://law.stackexchange.com/questions/18625/what-happens-if-a-brand-or-companys-name-is-a-common-everyday-word?rq=1\\\">this</a> or <a href=\\\"https://law.stackexchange.com/questions/76855/can-you-trademark-a-word-in-a-dictionary\\\">this</a> question and in their case this seems to be exactly a generic term. The name of the company is exactly what they sell. To me this means they shouldn't be able to get any trademark or copyright for that name. Anyone else offering Kleinanzeigen in Germany can just call them Kleinanzeigen because that is what they are.</p>\\n<p>Is that what happened here or do they have some other way to protect their company name? It seems very strange to me to deliberately rename the company to lose any trademark associated with it.</p>\\n\",\n",
      "  \"link\": \"https://law.stackexchange.com/questions/92959/does-the-renaming-of-the-german-ebay-kleinanzeigen-to-kleinanzeigen-mean-the\",\n",
      "  \"answers\": [\n",
      "    {\n",
      "      \"answer_id\": 92986,\n",
      "      \"score\": 5,\n",
      "      \"body\": \"<p>There is already any number of other pages that are named kleinanzeigen, just with different top level domains (probably sprung into existence after the plan for the renaming became public). But if you are a Website operating in Germany that owns the kleinanzeigen.de domain, that probably does not worry you too much (you could probably fight others over the use of the word for a specific purpose such as a classifieds website, because sometimes specific uses might be protected; but that would be an uphill battle, since as pointed out the name is the literal description of the business model).</p>\\n<p>What might worry you is that somebody is tricked into confusing kleinanzeigen.eu or kleinanzeigen.biz with your valuable property. The way to avoid that is to register a &quot;<a href=\\\"https://de.wikipedia.org/wiki/Wort-Bild-Marke\\\" rel=\\\"nofollow noreferrer\\\">Wort-Bild-Marke</a>&quot;, a combination of your name with one or more distinctive graphic elements. You will notice that the &quot;kleinanzeigen&quot; name on the website is rendered in a specific font and is preceded by what on closer inspection turns out to be a stylized letter &quot;k&quot;. That is something that can be protected by law. Nobody else is allowed to be too close to that design, so that minimizes the danger that visitors confuse a competitor's page with the &quot;original&quot; kleinanzeigen page.</p>\\n<p>Since the question alludes to eBay's business, kleinanzeigen is no longer a part of eBay - for some three years now they belong to Adevinta, a Norwegian conglomerate that runs classified portals in various countries. So keeping &quot;ebay&quot; in their name was not really an option (and all alternatives to &quot;kleinanzeigen&quot; were probably worse).</p>\\n\"\n",
      "    }\n",
      "  ]\n",
      "}\n"
     ]
    }
   ],
   "source": [
    "print(len(questions_data))\n",
    "print(json.dumps(questions_data[-1], indent=2))"
   ]
  },
  {
   "cell_type": "code",
   "execution_count": 98,
   "metadata": {},
   "outputs": [],
   "source": [
    "# Save the whole data\n",
    "\n",
    "# output_file_name = \"law.stackexchange-questions-answers.json\"\n",
    "output_file_name = \"law.stackexchange-questions-answers.json\"\n",
    "\n",
    "full_output_path = os.path.join(file_path, output_file_name)\n",
    "\n",
    "with open(full_output_path, \"w+\") as output:\n",
    "  json.dump(questions_data, output, indent=4)"
   ]
  },
  {
   "cell_type": "code",
   "execution_count": 99,
   "metadata": {},
   "outputs": [],
   "source": [
    "import os\n",
    "import json\n",
    "\n",
    "# output_file_name = \"law.stackexchange-questions-answers.json\"\n",
    "output_file_name = \"law.stackexchange-questions-answers.json\"\n",
    "\n",
    "full_output_path = os.path.join(file_path, output_file_name)\n",
    "\n",
    "with open(full_output_path, \"r\") as output:\n",
    "  questions_answers = json.load(output)"
   ]
  },
  {
   "cell_type": "code",
   "execution_count": 100,
   "metadata": {},
   "outputs": [
    {
     "data": {
      "text/plain": [
       "8680"
      ]
     },
     "execution_count": 100,
     "metadata": {},
     "output_type": "execute_result"
    }
   ],
   "source": [
    "len(questions_answers)"
   ]
  },
  {
   "cell_type": "code",
   "execution_count": 101,
   "metadata": {},
   "outputs": [
    {
     "name": "stdout",
     "output_type": "stream",
     "text": [
      "{\n",
      "    \"question_id\": 36259,\n",
      "    \"tags\": [\n",
      "        \"contract-law\",\n",
      "        \"employment\"\n",
      "    ],\n",
      "    \"score\": 232,\n",
      "    \"license\": \"CC BY-SA 4.0\",\n",
      "    \"title\": \"If a company agrees to pay travel cost for a job interview, is the promise binding and enforceable?\",\n",
      "    \"body\": \"<p>There is a question on workplace.SE about a company which offered to pay travel costs for a job interview, but canceled the return ticket after ending the interview - <a href=\\\"https://workplace.stackexchange.com/questions/126565/potential-employer-cancels-return-flight\\\">Potential Employer Cancels Return Flight</a>.</p>\\n\\n<p>Generally, when arranging a job interview which requires the candidate to travel, it is common for the potential employer to pay travel cost and lodging for the candidate. In practice, the employer will ususally offer this, often in writing, but not write up a formal contract or similar document.</p>\\n\\n<p><strong>In that situation, can the employer later renege on the promise to pay costs?</strong> In particular, can they renege after the candidate has begun their journey, thus saddling the candidate with the travel cost?</p>\\n\\n<hr>\\n\\n<p>My thoughts:</p>\\n\\n<ul>\\n<li>On the one hand, a simple one-sided promise is usually not binding, as a binding agreement requires both sides to give something (called <a href=\\\"https://en.wikipedia.org/wiki/Consideration\\\" rel=\\\"noreferrer\\\">consideration</a> in Common law).</li>\\n<li>On the other hand, there is the notion of <a href=\\\"https://www.mccaberabin.com/business-copyright-faq/what-is-detrimental-reliance/\\\" rel=\\\"noreferrer\\\">detrimental reliance</a>, which appears to fit here. Also, one could argue that the candidate <em>does</em> provide something in exchange, namely their presence and willingness to attend the interview (basically, the company trades travel costs for having the candidate  present for the interview).</li>\\n</ul>\\n\\n<p>So, is the promise to pay the candidate's cost enforceable or not?</p>\\n\\n<p>Im interested in any jurisdiction, particularly European and US.</p>\\n\",\n",
      "    \"link\": \"https://law.stackexchange.com/questions/36259/if-a-company-agrees-to-pay-travel-cost-for-a-job-interview-is-the-promise-bindi\",\n",
      "    \"answers\": [\n",
      "        {\n",
      "            \"answer_id\": 36261,\n",
      "            \"score\": 180,\n",
      "            \"body\": \"<p>This aspect (and many others) of contract law is applicable in the US and various countries of the EU.</p>\\n<blockquote>\\n<p>can they renege after the candidate has begun their journey, thus\\nsaddling the candidate with the travel cost?</p>\\n</blockquote>\\n<p>No. The company would incur breach of contract.</p>\\n<p>There is no need for a formal contract. The candidate only needs to prove that the company agreed (in writing, orally or clearly through its conduct) to cover or reimburse those expenses and that this elicited a <em><a href=\\\"https://en.wikipedia.org/wiki/Meeting_of_the_minds\\\" rel=\\\"noreferrer\\\">meeting of the minds</a></em>.</p>\\n<p>The agreement would be void if the candidate incurred the expenses despite knowing (via timely notice) that the company changed its mind.</p>\\n<p>Likewise, if the candidate lied on his CV, the contract (here, the company's agreement to cover the expenses) would be voidable by the company, since the candidate's intentional misrepresentations preclude the aforementioned condition of meeting of the minds.</p>\\n<p><strong>--Edited on 1/18/2019 to add ...--</strong></p>\\n<p>Per <a href=\\\"https://law.stackexchange.com/questions/36259/if-a-company-agrees-to-pay-travel-cost-for-a-job-interview-is-the-promise-bindi/36261?noredirect=1#comment65265_36261\\\">suggestion</a> by @KRyan, the aspect of <em>void or voidable contract</em> is expanded. But first, two disclaimers are pertinent:</p>\\n<ul>\\n<li>We need to be mindful that many of the follow-up concerns are either\\npremised on or inspired by the situation described in the underlying\\n<a href=\\\"https://workplace.stackexchange.com/questions/126565/potential-employer-flew-me-out-for-interview-cancels-return-flight\\\">Workplace SE post</a>. These are somewhat beyond the scope of this Law SE\\nquestion but addressed nonetheless, given their relevance as well as the OP's &amp; audience's\\ninterest.</li>\\n<li>The follow-up hypotheticals [in this Law SE question] and\\nclarifications thereto neither speculate nor pass judgment on the\\nstranded candidate who asked on Workplace SE. The Workplace SE post\\nreflects a company's <em>breach of contract</em>. The subsequent comments here about <em>fraud\\nhypotheticals</em> are mostly derivative inquiries beyond what\\nis described in Workplace SE. In particular, we do <strong>not</strong> assume\\nwhatsoever that the stranded candidate committed fraud.</li>\\n</ul>\\n<p><a href=\\\"https://law.stackexchange.com/questions/36259/if-a-company-agrees-to-pay-travel-cost-for-a-job-interview-is-the-promise-bindi/36261?noredirect=1#comment65229_36261\\\">The_Sympathizer</a> commented:</p>\\n<blockquote>\\n<p>can the contract be voided <em>on the spot</em> like that without first\\nproving in court? As it seems like it grants a rather &quot;vigilante&quot;\\njustice power that is open to abuse, since effectively the\\n&quot;punishment&quot; (cancellation of the flight and thus inducing a rather\\nserious physical situation) is administered before any due process has\\nbeen afforded the one accused.</p>\\n</blockquote>\\n<p>Yes, it can be voided <em>on the spot</em> (aka <em>sua sponte</em>).</p>\\n<p>&quot;Vigilante&quot; justice denotes a self-attribution of <em>punitive</em> powers that exclusively belong to the state/government/court, whereas a party's voiding of a contract is the act of <em>foreclosing</em> his losses/exposures with respect to a contract that <em>de facto</em> never existed (such as when that contract was induced by fraud).</p>\\n<p>I agree that unfortunately that is open to abuse: As a pretext to actually incur <em>breach of contract</em>, a company might allege that the contract was void. That is why (if taken to court) it will be the company's burden to prove that (1) it reasonably relied upon a candidate's representations (2) which were significant and blatantly false (3) given the candidate's knowledge that his lies contravened the job's core requirements.</p>\\n<p>That can be quite burdensome. For instance, is the company handing out airfares without first conducting some <em>competent</em> corroborations about the candidate's credentials/skills? If so, one can hardly concede the company's allegation of <em>reasonable reliance</em>. The resulting finding would be that the contract was not voidable by the company, and thus that it is liable for <em>breach of contract</em>.</p>\\n<p>Also, belatedly &quot;informing&quot; the stranded candidate that the company &quot;<em>is going in a different direction</em>&quot; falls short of evidencing that the contract was voidable. That applies even if the candidate <a href=\\\"https://law.stackexchange.com/questions/36259/if-a-company-agrees-to-pay-travel-cost-for-a-job-interview-is-the-promise-bindi/36261?noredirect=1#comment65255_36261\\\">performed very poorly in the interview</a> or screening process.</p>\\n<p>Given the hardship imposed on a stranded candidate, a company has to be morally and legally very judicious about its method and timing for &quot;<em>going in a different direction</em>&quot;.</p>\\n<p>But absent any representations or [company's] bylaws to the contrary, a company generally does not have the obligation to afford <em>due process</em> to a candidate. The court <em>is</em> the entity with an obligation to enforce <em>due process</em> as provided by law (although many of us in the U.S. have repeatedly experienced the courts' disavowal of <em>due process</em>).</p>\\n<p><strong>--End of edit on 1/19/2019--</strong></p>\\n<blockquote>\\n<p>a binding agreement requires both sides to give something</p>\\n</blockquote>\\n<p>Here, the candidate's consideration is his time and effort to accommodate the company's interest in assessing the candidate's profile at a location that is convenient to the company.</p>\\n\"\n",
      "        },\n",
      "        {\n",
      "            \"answer_id\": 36278,\n",
      "            \"score\": 38,\n",
      "            \"body\": \"<p>Yes the promise is binding and enforceable because of the reasons you mentioned (your consideration is making yourself available at the company's premises, and, should that not be convincing enough, detrimental reliance wipes out any doubt). You have a perfectly valid contract here.</p>\\n\\n<p>However, a perfectly valid contract means that <em>both</em> parties need to perform as they represented they will, and <em>both</em> can be entitled to damages should the other party fail to fulfill their obligations.</p>\\n\\n<p><em>If</em> you made false representations prior to them booking the flights/accommodation (including, but not limited to lying on the CV), the company's damages may be not just what they paid to see you face to face, but also their time (which is, you know, money) and missed opportunities in hiring other candidates (which they would have invited instead of you). In this situation, should the case go to court, you are highly likely to end up owing them.</p>\\n\\n<p>So, if you are sure that you did not make false representations and, otherwise, are not in breach of this contract, then you have a great opportunity not only to get your unexpected expenses reimbursed, but also name/shame the company and give them a great lesson. Otherwise, consider yourself lucky they are not doing the same to you.</p>\\n\"\n",
      "        },\n",
      "        {\n",
      "            \"answer_id\": 36342,\n",
      "            \"score\": 20,\n",
      "            \"body\": \"<p>As the question specifically asks for different jurisdictions, i'd like to weigh in with <strong>my interpretation of German law</strong>:</p>\\n\\n<p><strong><a href=\\\"http://www.gesetze-im-internet.de/bgb/__670.html\\\" rel=\\\"noreferrer\\\">\\u00a7670 of the Civil Code (source in German)</a></strong> (B\\u00fcrgerliches Gesetzbuch, BGB) should be applicable. - @nwellnhof suggested in a comment that it shouldn't, but the definition of typical contractual obligations in the case of an <em>assignment</em> (the German legal term is \\\"Auftrag\\\") in \\u00a7662 BGB states just <strong>two main conditions</strong>: The <strong><em>assignee</em></strong> (\\\"Beauftragter\\\") <strong>promises to do something</strong> (\\\"Gesch\\u00e4ft [...] besorgen\\\") for the <em>assigner</em> (\\\"Auftraggeber\\\") <strong>free of charge</strong> (\\\"unentgeltlich\\\"). - Thus, in my opinion, the \\\"Auftrag\\\" is the proper construct to handle this case.</p>\\n\\n<p>\\u00a7670 BGB states, that <strong>a person who designates another person to do something, is required to reimburse any expenses</strong> that the other person was allowed - according to the circumstances - to consider <strong>necessary</strong>. (\\\"Macht der Beauftragte zum Zwecke der Ausf\\u00fchrung des Auftrags Aufwendungen, die er den Umst\\u00e4nden nach f\\u00fcr erforderlich halten darf, so ist der Auftraggeber zum Ersatz verpflichtet.\\\")</p>\\n\\n<p><strong><a href=\\\"http://www.gesetze-im-internet.de/bgb/__669.html\\\" rel=\\\"noreferrer\\\">\\u00a7669 of the Civil Code (source in German)</a></strong> (BGB) makes it clear, that the <strong>designated person can claim the necessary expenses in advance</strong>. (\\\"F\\u00fcr die zur Ausf\\u00fchrung des Auftrags erforderlichen Aufwendungen hat der Auftraggeber dem Beauftragten auf Verlangen Vorschuss zu leisten.\\\")</p>\\n\\n<p>These conditions are probably <strong>negotiable</strong>, but <strong>without another agreement they are the default regulation</strong>.</p>\\n\\n<p>Thus, <strong>if a company invites someone, without making it reasonably clear in advance that they won't pay for expenses, they are legally obligated to pay.</strong> </p>\\n\"\n",
      "        },\n",
      "        {\n",
      "            \"answer_id\": 36344,\n",
      "            \"score\": 20,\n",
      "            \"body\": \"<p>Under UK law you can recover any costs from them. You will need some basic evidence, such as emails or letters where they state they will fly you home.</p>\\n\\n<p>Your costs are things you would not have had to pay if they had not stranded you. Food costs above what it costs you to eat at home, any services like hotels, showers, wifi etc, and of course your greyhound ticket and whatever it cost your friend in petrol. In fact you should claim mileage (typically 50p/mile) for your friend's car, plus any time they had off work.</p>\\n\\n<p>If you were unable to work any days you should claim you full day rate too.</p>\\n\\n<p>Add interest, any bank charges you had (e.g. credit card interest, overdrafts) and the like.</p>\\n\\n<p>Small Claims Court is probably your best bet. It's cheap, you can do it online and you don't need a lawyer. Just turn up and explain what happened to the judge. Best of all it will be your local court, so if they want to defend themselves they will have to send someone or hire a local lawyer. The judge will by sympathetic and helpful, and not expect you to be a legal expert.</p>\\n\\n<p>Small Claims court has a maximum claim of \\u00a310,000.</p>\\n\\n<p>You can also claim for your suffering. It's difficult to put a precise figure on what you should get for your ordeal, but three days in an airport and having to eat scraps... I'd suggest \\u00a33000 as a starting point (\\u00a31000/day), assuming it doesn't push your total claim over the \\u00a310,000 mark.</p>\\n\"\n",
      "        },\n",
      "        {\n",
      "            \"answer_id\": 36372,\n",
      "            \"score\": 9,\n",
      "            \"body\": \"<p>Under English Law to form a contract, the essential elements are:\\n  1. an offer capable of acceptance\\n  2. unequivocal acceptance of the offer by the other party\\n  3. contractual consideration\\n  4. capacity to enter to in a contract, and \\n  5. intention to create legal relations, but \\n  6. has no vitiating factors - the ones that might apply are representation and the law of mistake.</p>\\n\\n<ol>\\n<li>They made an offer capable of acceptance</li>\\n<li>You accepted the offer.</li>\\n<li>Their consideration was payment of the flights. Your consideration was attending the interview.</li>\\n<li>They're  company. You're over 18. Both have legal capacity to enter a contract.</li>\\n<li>Intention to create a legal relationship? It was a commercial relationship. It's presumed.</li>\\n</ol>\\n\\n<p>We're up to number 5. That's a legally binding contract. Doesn't matter whether it's in writing or an oral agreement. The interviewee might have problems with proof of the agreement if it's only an oral agreement.</p>\\n\\n<ol start=\\\"6\\\">\\n<li>Misrepresentation or Mistake of law? Nowhere in sight in your question.</li>\\n</ol>\\n\\n<p>Seriously, it's that simple. There's no need to go anywhere near estoppel arguments (ie detrimental reliance). It's pleader's last resort (ie you don't claim estoppel unless you have nothing else to hang your hat on).</p>\\n\\n<p>So by not paying for the flights, It's a breach of contract. The sum of damages would start with the costs of the flight. The sum payable as damages would be the sum to put the interviewee in the position s/he would have been in if the breach had not taken place.  </p>\\n\"\n",
      "        },\n",
      "        {\n",
      "            \"answer_id\": 36364,\n",
      "            \"score\": 7,\n",
      "            \"body\": \"<p>I would argue that the company, inviting a candidate to an interview and giving them a paid return air ticket, enters a relationship where they now have a duty of care to get that person back home by letting them use the return flight. </p>\\n\\n<p>Whatever disagreement they have with the candidate, that can be sorted out once the person is back home. They can try to charge him for the ticket, or for half the ticket, or whatever - but they have a duty of care to get them home first. </p>\\n\\n<p>In English law, the rules for liability are: </p>\\n\\n<ol>\\n<li>Harm must be a \\\"reasonably foreseeable\\\" result of the defendant's conduct;</li>\\n<li>A relationship of \\\"proximity\\\" must exist between the defendant and the claimant;</li>\\n<li>It must be \\\"fair, just and reasonable\\\" to impose liability</li>\\n</ol>\\n\\n<p>I would say that all three apply in this situation, where the harm of being stranded at an airport without a ticket is \\\"reasonably foreseeable\\\", there was a relationship because the person was invited to an interview, and it is \\\"fair, just and reasonable\\\" to impose liability because the company caused the interviewee major cost and inconvenience to gain a small amount of money, that they could have easily got directly from the interviewee. </p>\\n\\n<p>Interestingly this doesn't answer the direct question (is the promise to pay the travel cost binding and enforceable), but here the actual damage caused was substantially higher than the normal cost of travel. If the company had said \\\"please book the tickets under your own name and at your own cost, and we will refund the cost\\\", it would have been a lot less damage if they had refused to pay later. </p>\\n\"\n",
      "        },\n",
      "        {\n",
      "            \"answer_id\": 36279,\n",
      "            \"score\": 4,\n",
      "            \"body\": \"<p>There are several times I've had interviews where I did not lie on my CV/Resume but did not fit the bill.  However, when I got to the interview the job description was misleading or off, or they asked questions that were no were related to the job description.</p>\\n\\n<p>People here are blaming you without actually having any information to back that up.  Also, I believe that there is no excuse to strand someone like that and in a court, you will be able to hold the upper hand here.  I suggest contacting a lawyer and finding out your options.</p>\\n\\n<p>I've done several interviews where I flew somewhere, bombed the interview, and still was able to get home safely.  What the company did was place your health, safety, and financial situation in jeopardy.  Regardless of the situation, no company should just strand someone like that.  It's petty and immature and I personally would never want to work for a company like that.</p>\\n\"\n",
      "        }\n",
      "    ]\n",
      "}\n"
     ]
    }
   ],
   "source": [
    "print(json.dumps(questions_answers[0], indent=4))"
   ]
  },
  {
   "cell_type": "code",
   "execution_count": 102,
   "metadata": {},
   "outputs": [
    {
     "data": {
      "text/plain": [
       "'<p>This aspect (and many others) of contract law is applicable in the US and various countries of the EU.</p>\\n<blockquote>\\n<p>can they renege after the candidate has begun their journey, thus\\nsaddling the candidate with the travel cost?</p>\\n</blockquote>\\n<p>No. The company would incur breach of contract.</p>\\n<p>There is no need for a formal contract. The candidate only needs to prove that the company agreed (in writing, orally or clearly through its conduct) to cover or reimburse those expenses and that this elicited a <em><a href=\"https://en.wikipedia.org/wiki/Meeting_of_the_minds\" rel=\"noreferrer\">meeting of the minds</a></em>.</p>\\n<p>The agreement would be void if the candidate incurred the expenses despite knowing (via timely notice) that the company changed its mind.</p>\\n<p>Likewise, if the candidate lied on his CV, the contract (here, the company\\'s agreement to cover the expenses) would be voidable by the company, since the candidate\\'s intentional misrepresentations preclude the aforementioned condition of meeting of the minds.</p>\\n<p><strong>--Edited on 1/18/2019 to add ...--</strong></p>\\n<p>Per <a href=\"https://law.stackexchange.com/questions/36259/if-a-company-agrees-to-pay-travel-cost-for-a-job-interview-is-the-promise-bindi/36261?noredirect=1#comment65265_36261\">suggestion</a> by @KRyan, the aspect of <em>void or voidable contract</em> is expanded. But first, two disclaimers are pertinent:</p>\\n<ul>\\n<li>We need to be mindful that many of the follow-up concerns are either\\npremised on or inspired by the situation described in the underlying\\n<a href=\"https://workplace.stackexchange.com/questions/126565/potential-employer-flew-me-out-for-interview-cancels-return-flight\">Workplace SE post</a>. These are somewhat beyond the scope of this Law SE\\nquestion but addressed nonetheless, given their relevance as well as the OP\\'s &amp; audience\\'s\\ninterest.</li>\\n<li>The follow-up hypotheticals [in this Law SE question] and\\nclarifications thereto neither speculate nor pass judgment on the\\nstranded candidate who asked on Workplace SE. The Workplace SE post\\nreflects a company\\'s <em>breach of contract</em>. The subsequent comments here about <em>fraud\\nhypotheticals</em> are mostly derivative inquiries beyond what\\nis described in Workplace SE. In particular, we do <strong>not</strong> assume\\nwhatsoever that the stranded candidate committed fraud.</li>\\n</ul>\\n<p><a href=\"https://law.stackexchange.com/questions/36259/if-a-company-agrees-to-pay-travel-cost-for-a-job-interview-is-the-promise-bindi/36261?noredirect=1#comment65229_36261\">The_Sympathizer</a> commented:</p>\\n<blockquote>\\n<p>can the contract be voided <em>on the spot</em> like that without first\\nproving in court? As it seems like it grants a rather &quot;vigilante&quot;\\njustice power that is open to abuse, since effectively the\\n&quot;punishment&quot; (cancellation of the flight and thus inducing a rather\\nserious physical situation) is administered before any due process has\\nbeen afforded the one accused.</p>\\n</blockquote>\\n<p>Yes, it can be voided <em>on the spot</em> (aka <em>sua sponte</em>).</p>\\n<p>&quot;Vigilante&quot; justice denotes a self-attribution of <em>punitive</em> powers that exclusively belong to the state/government/court, whereas a party\\'s voiding of a contract is the act of <em>foreclosing</em> his losses/exposures with respect to a contract that <em>de facto</em> never existed (such as when that contract was induced by fraud).</p>\\n<p>I agree that unfortunately that is open to abuse: As a pretext to actually incur <em>breach of contract</em>, a company might allege that the contract was void. That is why (if taken to court) it will be the company\\'s burden to prove that (1) it reasonably relied upon a candidate\\'s representations (2) which were significant and blatantly false (3) given the candidate\\'s knowledge that his lies contravened the job\\'s core requirements.</p>\\n<p>That can be quite burdensome. For instance, is the company handing out airfares without first conducting some <em>competent</em> corroborations about the candidate\\'s credentials/skills? If so, one can hardly concede the company\\'s allegation of <em>reasonable reliance</em>. The resulting finding would be that the contract was not voidable by the company, and thus that it is liable for <em>breach of contract</em>.</p>\\n<p>Also, belatedly &quot;informing&quot; the stranded candidate that the company &quot;<em>is going in a different direction</em>&quot; falls short of evidencing that the contract was voidable. That applies even if the candidate <a href=\"https://law.stackexchange.com/questions/36259/if-a-company-agrees-to-pay-travel-cost-for-a-job-interview-is-the-promise-bindi/36261?noredirect=1#comment65255_36261\">performed very poorly in the interview</a> or screening process.</p>\\n<p>Given the hardship imposed on a stranded candidate, a company has to be morally and legally very judicious about its method and timing for &quot;<em>going in a different direction</em>&quot;.</p>\\n<p>But absent any representations or [company\\'s] bylaws to the contrary, a company generally does not have the obligation to afford <em>due process</em> to a candidate. The court <em>is</em> the entity with an obligation to enforce <em>due process</em> as provided by law (although many of us in the U.S. have repeatedly experienced the courts\\' disavowal of <em>due process</em>).</p>\\n<p><strong>--End of edit on 1/19/2019--</strong></p>\\n<blockquote>\\n<p>a binding agreement requires both sides to give something</p>\\n</blockquote>\\n<p>Here, the candidate\\'s consideration is his time and effort to accommodate the company\\'s interest in assessing the candidate\\'s profile at a location that is convenient to the company.</p>\\n'"
      ]
     },
     "execution_count": 102,
     "metadata": {},
     "output_type": "execute_result"
    }
   ],
   "source": [
    "questions_answers[0]['answers'][0]['body']"
   ]
  },
  {
   "cell_type": "code",
   "execution_count": 103,
   "metadata": {},
   "outputs": [
    {
     "data": {
      "text/plain": [
       "'<p>There is a question on workplace.SE about a company which offered to pay travel costs for a job interview, but canceled the return ticket after ending the interview - <a href=\"https://workplace.stackexchange.com/questions/126565/potential-employer-cancels-return-flight\">Potential Employer Cancels Return Flight</a>.</p>\\n\\n<p>Generally, when arranging a job interview which requires the candidate to travel, it is common for the potential employer to pay travel cost and lodging for the candidate. In practice, the employer will ususally offer this, often in writing, but not write up a formal contract or similar document.</p>\\n\\n<p><strong>In that situation, can the employer later renege on the promise to pay costs?</strong> In particular, can they renege after the candidate has begun their journey, thus saddling the candidate with the travel cost?</p>\\n\\n<hr>\\n\\n<p>My thoughts:</p>\\n\\n<ul>\\n<li>On the one hand, a simple one-sided promise is usually not binding, as a binding agreement requires both sides to give something (called <a href=\"https://en.wikipedia.org/wiki/Consideration\" rel=\"noreferrer\">consideration</a> in Common law).</li>\\n<li>On the other hand, there is the notion of <a href=\"https://www.mccaberabin.com/business-copyright-faq/what-is-detrimental-reliance/\" rel=\"noreferrer\">detrimental reliance</a>, which appears to fit here. Also, one could argue that the candidate <em>does</em> provide something in exchange, namely their presence and willingness to attend the interview (basically, the company trades travel costs for having the candidate  present for the interview).</li>\\n</ul>\\n\\n<p>So, is the promise to pay the candidate\\'s cost enforceable or not?</p>\\n\\n<p>Im interested in any jurisdiction, particularly European and US.</p>\\n'"
      ]
     },
     "execution_count": 103,
     "metadata": {},
     "output_type": "execute_result"
    }
   ],
   "source": [
    "questions[0]['body']"
   ]
  },
  {
   "cell_type": "code",
   "execution_count": 30,
   "metadata": {},
   "outputs": [],
   "source": []
  },
  {
   "cell_type": "code",
   "execution_count": 104,
   "metadata": {},
   "outputs": [
    {
     "data": {
      "text/html": [
       "<div>\n",
       "<style scoped>\n",
       "    .dataframe tbody tr th:only-of-type {\n",
       "        vertical-align: middle;\n",
       "    }\n",
       "\n",
       "    .dataframe tbody tr th {\n",
       "        vertical-align: top;\n",
       "    }\n",
       "\n",
       "    .dataframe thead th {\n",
       "        text-align: right;\n",
       "    }\n",
       "</style>\n",
       "<table border=\"1\" class=\"dataframe\">\n",
       "  <thead>\n",
       "    <tr style=\"text-align: right;\">\n",
       "      <th></th>\n",
       "      <th>question_id</th>\n",
       "      <th>question_body</th>\n",
       "    </tr>\n",
       "  </thead>\n",
       "  <tbody>\n",
       "    <tr>\n",
       "      <th>0</th>\n",
       "      <td>36259</td>\n",
       "      <td>&lt;p&gt;There is a question on workplace.SE about a...</td>\n",
       "    </tr>\n",
       "    <tr>\n",
       "      <th>1</th>\n",
       "      <td>33212</td>\n",
       "      <td>&lt;p&gt;I am a high school Chemistry teacher. This ...</td>\n",
       "    </tr>\n",
       "    <tr>\n",
       "      <th>2</th>\n",
       "      <td>47456</td>\n",
       "      <td>&lt;p&gt;My youngest is a freshman &amp;amp; signed up f...</td>\n",
       "    </tr>\n",
       "    <tr>\n",
       "      <th>3</th>\n",
       "      <td>98706</td>\n",
       "      <td>&lt;p&gt;Imagine sitting in an airplane when suddenl...</td>\n",
       "    </tr>\n",
       "    <tr>\n",
       "      <th>4</th>\n",
       "      <td>48515</td>\n",
       "      <td>&lt;p&gt;As I understand, in general, &lt;a href=\"https...</td>\n",
       "    </tr>\n",
       "  </tbody>\n",
       "</table>\n",
       "</div>"
      ],
      "text/plain": [
       "   question_id                                      question_body\n",
       "0        36259  <p>There is a question on workplace.SE about a...\n",
       "1        33212  <p>I am a high school Chemistry teacher. This ...\n",
       "2        47456  <p>My youngest is a freshman &amp; signed up f...\n",
       "3        98706  <p>Imagine sitting in an airplane when suddenl...\n",
       "4        48515  <p>As I understand, in general, <a href=\"https..."
      ]
     },
     "execution_count": 104,
     "metadata": {},
     "output_type": "execute_result"
    }
   ],
   "source": [
    "list_questions = []\n",
    "\n",
    "for q in questions:\n",
    "    list_questions.append({\n",
    "        \"question_id\": q['question_id'],\n",
    "        \"question_body\": q['body']\n",
    "    })\n",
    "\n",
    "df_questions = pd.DataFrame(list_questions)\n",
    "\n",
    "df_questions.head()"
   ]
  },
  {
   "cell_type": "code",
   "execution_count": 105,
   "metadata": {},
   "outputs": [],
   "source": [
    "def clean_text(text):\n",
    "    # Remove HTML tags\n",
    "    text = re.sub(r'<[^>]*>', '', text)\n",
    "    # Remove links (http, https, www)\n",
    "    text = re.sub(r'http[s]?://\\S+|www\\.\\S+', '', text)\n",
    "    # Remove extra spaces\n",
    "    text = re.sub(r'\\s+', ' ', text).strip()\n",
    "    return text\n",
    "\n",
    "list_questions_answers = []\n",
    "\n",
    "for q in questions_answers:\n",
    "\n",
    "    for a in q['answers']: \n",
    "        key = {\n",
    "            'question_id': q['question_id'],\n",
    "            'question_title': clean_text(q['title']),\n",
    "            'question_body': clean_text(q['body']),\n",
    "            'question_complete': 'Q: ' + clean_text(q['title']) + '. ' + clean_text(q['body']),\n",
    "            'answer_id': a['answer_id'],\n",
    "            'answer_score': a['score'],\n",
    "            'answer_body': 'A: ' + clean_text(a['body'])\n",
    "        }\n",
    "        list_questions_answers.append(key)\n",
    "\n",
    "df_qa = pd.DataFrame(list_questions_answers)\n",
    "df_qa['row_number_score'] = df_qa.groupby(['question_id', 'question_title'])['answer_score'].rank(method='first', ascending=False).astype(int)\n",
    "df_qa.drop(columns=['answer_score'], inplace=True)"
   ]
  },
  {
   "cell_type": "code",
   "execution_count": 106,
   "metadata": {},
   "outputs": [
    {
     "data": {
      "text/plain": [
       "(16836, 7)"
      ]
     },
     "metadata": {},
     "output_type": "display_data"
    },
    {
     "data": {
      "text/html": [
       "<div>\n",
       "<style scoped>\n",
       "    .dataframe tbody tr th:only-of-type {\n",
       "        vertical-align: middle;\n",
       "    }\n",
       "\n",
       "    .dataframe tbody tr th {\n",
       "        vertical-align: top;\n",
       "    }\n",
       "\n",
       "    .dataframe thead th {\n",
       "        text-align: right;\n",
       "    }\n",
       "</style>\n",
       "<table border=\"1\" class=\"dataframe\">\n",
       "  <thead>\n",
       "    <tr style=\"text-align: right;\">\n",
       "      <th></th>\n",
       "      <th>question_id</th>\n",
       "      <th>question_title</th>\n",
       "      <th>question_body</th>\n",
       "      <th>question_complete</th>\n",
       "      <th>answer_id</th>\n",
       "      <th>answer_body</th>\n",
       "      <th>row_number_score</th>\n",
       "    </tr>\n",
       "  </thead>\n",
       "  <tbody>\n",
       "    <tr>\n",
       "      <th>0</th>\n",
       "      <td>36259</td>\n",
       "      <td>If a company agrees to pay travel cost for a j...</td>\n",
       "      <td>There is a question on workplace.SE about a co...</td>\n",
       "      <td>Q: If a company agrees to pay travel cost for ...</td>\n",
       "      <td>36261</td>\n",
       "      <td>A: This aspect (and many others) of contract l...</td>\n",
       "      <td>1</td>\n",
       "    </tr>\n",
       "    <tr>\n",
       "      <th>1</th>\n",
       "      <td>36259</td>\n",
       "      <td>If a company agrees to pay travel cost for a j...</td>\n",
       "      <td>There is a question on workplace.SE about a co...</td>\n",
       "      <td>Q: If a company agrees to pay travel cost for ...</td>\n",
       "      <td>36278</td>\n",
       "      <td>A: Yes the promise is binding and enforceable ...</td>\n",
       "      <td>2</td>\n",
       "    </tr>\n",
       "    <tr>\n",
       "      <th>2</th>\n",
       "      <td>36259</td>\n",
       "      <td>If a company agrees to pay travel cost for a j...</td>\n",
       "      <td>There is a question on workplace.SE about a co...</td>\n",
       "      <td>Q: If a company agrees to pay travel cost for ...</td>\n",
       "      <td>36342</td>\n",
       "      <td>A: As the question specifically asks for diffe...</td>\n",
       "      <td>3</td>\n",
       "    </tr>\n",
       "    <tr>\n",
       "      <th>3</th>\n",
       "      <td>36259</td>\n",
       "      <td>If a company agrees to pay travel cost for a j...</td>\n",
       "      <td>There is a question on workplace.SE about a co...</td>\n",
       "      <td>Q: If a company agrees to pay travel cost for ...</td>\n",
       "      <td>36344</td>\n",
       "      <td>A: Under UK law you can recover any costs from...</td>\n",
       "      <td>4</td>\n",
       "    </tr>\n",
       "    <tr>\n",
       "      <th>4</th>\n",
       "      <td>36259</td>\n",
       "      <td>If a company agrees to pay travel cost for a j...</td>\n",
       "      <td>There is a question on workplace.SE about a co...</td>\n",
       "      <td>Q: If a company agrees to pay travel cost for ...</td>\n",
       "      <td>36372</td>\n",
       "      <td>A: Under English Law to form a contract, the e...</td>\n",
       "      <td>5</td>\n",
       "    </tr>\n",
       "  </tbody>\n",
       "</table>\n",
       "</div>"
      ],
      "text/plain": [
       "   question_id                                     question_title  \\\n",
       "0        36259  If a company agrees to pay travel cost for a j...   \n",
       "1        36259  If a company agrees to pay travel cost for a j...   \n",
       "2        36259  If a company agrees to pay travel cost for a j...   \n",
       "3        36259  If a company agrees to pay travel cost for a j...   \n",
       "4        36259  If a company agrees to pay travel cost for a j...   \n",
       "\n",
       "                                       question_body  \\\n",
       "0  There is a question on workplace.SE about a co...   \n",
       "1  There is a question on workplace.SE about a co...   \n",
       "2  There is a question on workplace.SE about a co...   \n",
       "3  There is a question on workplace.SE about a co...   \n",
       "4  There is a question on workplace.SE about a co...   \n",
       "\n",
       "                                   question_complete  answer_id  \\\n",
       "0  Q: If a company agrees to pay travel cost for ...      36261   \n",
       "1  Q: If a company agrees to pay travel cost for ...      36278   \n",
       "2  Q: If a company agrees to pay travel cost for ...      36342   \n",
       "3  Q: If a company agrees to pay travel cost for ...      36344   \n",
       "4  Q: If a company agrees to pay travel cost for ...      36372   \n",
       "\n",
       "                                         answer_body  row_number_score  \n",
       "0  A: This aspect (and many others) of contract l...                 1  \n",
       "1  A: Yes the promise is binding and enforceable ...                 2  \n",
       "2  A: As the question specifically asks for diffe...                 3  \n",
       "3  A: Under UK law you can recover any costs from...                 4  \n",
       "4  A: Under English Law to form a contract, the e...                 5  "
      ]
     },
     "metadata": {},
     "output_type": "display_data"
    }
   ],
   "source": [
    "display(df_qa.shape)\n",
    "display(df_qa.head())"
   ]
  },
  {
   "cell_type": "code",
   "execution_count": 109,
   "metadata": {},
   "outputs": [
    {
     "data": {
      "text/html": [
       "<div>\n",
       "<style scoped>\n",
       "    .dataframe tbody tr th:only-of-type {\n",
       "        vertical-align: middle;\n",
       "    }\n",
       "\n",
       "    .dataframe tbody tr th {\n",
       "        vertical-align: top;\n",
       "    }\n",
       "\n",
       "    .dataframe thead th {\n",
       "        text-align: right;\n",
       "    }\n",
       "</style>\n",
       "<table border=\"1\" class=\"dataframe\">\n",
       "  <thead>\n",
       "    <tr style=\"text-align: right;\">\n",
       "      <th></th>\n",
       "      <th>question</th>\n",
       "      <th>answer</th>\n",
       "    </tr>\n",
       "  </thead>\n",
       "  <tbody>\n",
       "    <tr>\n",
       "      <th>0</th>\n",
       "      <td>Q: If a company agrees to pay travel cost for ...</td>\n",
       "      <td>A: This aspect (and many others) of contract l...</td>\n",
       "    </tr>\n",
       "    <tr>\n",
       "      <th>1</th>\n",
       "      <td>Q: If a company agrees to pay travel cost for ...</td>\n",
       "      <td>A: Yes the promise is binding and enforceable ...</td>\n",
       "    </tr>\n",
       "    <tr>\n",
       "      <th>2</th>\n",
       "      <td>Q: If a company agrees to pay travel cost for ...</td>\n",
       "      <td>A: As the question specifically asks for diffe...</td>\n",
       "    </tr>\n",
       "    <tr>\n",
       "      <th>7</th>\n",
       "      <td>Q: A student slipped a drug into my coffee — w...</td>\n",
       "      <td>A: If the pill contained a harmful or noxious ...</td>\n",
       "    </tr>\n",
       "    <tr>\n",
       "      <th>8</th>\n",
       "      <td>Q: A student slipped a drug into my coffee — w...</td>\n",
       "      <td>A: I told the school resource officer that I w...</td>\n",
       "    </tr>\n",
       "    <tr>\n",
       "      <th>9</th>\n",
       "      <td>Q: A student slipped a drug into my coffee — w...</td>\n",
       "      <td>A: Edit 11/13/2018 Yes, I'm aware this answer ...</td>\n",
       "    </tr>\n",
       "    <tr>\n",
       "      <th>12</th>\n",
       "      <td>Q: Can a public school in the USA force a 14yr...</td>\n",
       "      <td>A: You say: the school expects him to create a...</td>\n",
       "    </tr>\n",
       "    <tr>\n",
       "      <th>13</th>\n",
       "      <td>Q: Can a public school in the USA force a 14yr...</td>\n",
       "      <td>A: I think some of the answers are good but ta...</td>\n",
       "    </tr>\n",
       "    <tr>\n",
       "      <th>14</th>\n",
       "      <td>Q: Can a public school in the USA force a 14yr...</td>\n",
       "      <td>A: I would suggest reaching out to the ACLU in...</td>\n",
       "    </tr>\n",
       "    <tr>\n",
       "      <th>18</th>\n",
       "      <td>Q: Is it insider trading if I bought Boeing pu...</td>\n",
       "      <td>A: Is it insider trading if I bought Boeing pu...</td>\n",
       "    </tr>\n",
       "  </tbody>\n",
       "</table>\n",
       "</div>"
      ],
      "text/plain": [
       "                                             question  \\\n",
       "0   Q: If a company agrees to pay travel cost for ...   \n",
       "1   Q: If a company agrees to pay travel cost for ...   \n",
       "2   Q: If a company agrees to pay travel cost for ...   \n",
       "7   Q: A student slipped a drug into my coffee — w...   \n",
       "8   Q: A student slipped a drug into my coffee — w...   \n",
       "9   Q: A student slipped a drug into my coffee — w...   \n",
       "12  Q: Can a public school in the USA force a 14yr...   \n",
       "13  Q: Can a public school in the USA force a 14yr...   \n",
       "14  Q: Can a public school in the USA force a 14yr...   \n",
       "18  Q: Is it insider trading if I bought Boeing pu...   \n",
       "\n",
       "                                               answer  \n",
       "0   A: This aspect (and many others) of contract l...  \n",
       "1   A: Yes the promise is binding and enforceable ...  \n",
       "2   A: As the question specifically asks for diffe...  \n",
       "7   A: If the pill contained a harmful or noxious ...  \n",
       "8   A: I told the school resource officer that I w...  \n",
       "9   A: Edit 11/13/2018 Yes, I'm aware this answer ...  \n",
       "12  A: You say: the school expects him to create a...  \n",
       "13  A: I think some of the answers are good but ta...  \n",
       "14  A: I would suggest reaching out to the ACLU in...  \n",
       "18  A: Is it insider trading if I bought Boeing pu...  "
      ]
     },
     "metadata": {},
     "output_type": "display_data"
    }
   ],
   "source": [
    "df_output = df_qa.loc[df_qa['row_number_score'] <= 3, ['question_complete', 'answer_body']]\n",
    "df_output = df_output.rename(columns={'question_complete': 'question', 'answer_body': 'answer'})\n",
    "\n",
    "display(df_output.head(10))\n",
    "\n",
    "df_output.to_csv('data/input_dataset.csv', index=False)"
   ]
  },
  {
   "cell_type": "code",
   "execution_count": 108,
   "metadata": {},
   "outputs": [
    {
     "data": {
      "text/plain": [
       "(15180, 2)"
      ]
     },
     "execution_count": 108,
     "metadata": {},
     "output_type": "execute_result"
    }
   ],
   "source": [
    "df_output.shape"
   ]
  },
  {
   "cell_type": "code",
   "execution_count": null,
   "metadata": {},
   "outputs": [],
   "source": []
  }
 ],
 "metadata": {
  "kernelspec": {
   "display_name": ".venv",
   "language": "python",
   "name": "python3"
  },
  "language_info": {
   "codemirror_mode": {
    "name": "ipython",
    "version": 3
   },
   "file_extension": ".py",
   "mimetype": "text/x-python",
   "name": "python",
   "nbconvert_exporter": "python",
   "pygments_lexer": "ipython3",
   "version": "3.12.7"
  }
 },
 "nbformat": 4,
 "nbformat_minor": 2
}
